{
 "cells": [
  {
   "cell_type": "code",
   "execution_count": 3,
   "metadata": {},
   "outputs": [],
   "source": [
    "import pandas as pd\n",
    "from sklearn.tree import DecisionTreeClassifier\n",
    "from lightgbm import LGBMClassifier\n",
    "from sklearn.model_selection import train_test_split\n",
    "from sklearn.metrics import accuracy_score\n",
    "from sklearn.metrics import confusion_matrix\n",
    "from sklearn.metrics import classification_report\n",
    "from sklearn.metrics import precision_score\n",
    "from sklearn.metrics import recall_score\n",
    "from sklearn.metrics import f1_score\n",
    "from sklearn.metrics import cohen_kappa_score\n",
    "from sklearn.metrics import roc_auc_score\n",
    "from sklearn.metrics import roc_curve\n",
    "from sklearn.metrics import auc\n",
    "import matplotlib.pyplot as plt\n",
    "import seaborn as sns\n",
    "from sklearn.pipeline import Pipeline\n",
    "import os\n",
    "import pickle\n",
    "import json\n",
    "import joblib\n",
    "import numpy as np"
   ]
  },
  {
   "cell_type": "code",
   "execution_count": 4,
   "metadata": {},
   "outputs": [],
   "source": [
    "positive_outcome_labels = [\n",
    "    'Community resolution',\n",
    "    'Khat or Cannabis warning',\n",
    "    'Caution (simple or conditional)',\n",
    "    'Arrest',\n",
    "    'Penalty Notice for Disorder',\n",
    "    'Summons / charged by post',\n",
    "    'Suspect arrested',\n",
    "    'Suspect summoned to court',\n",
    "]\n"
   ]
  },
  {
   "cell_type": "code",
   "execution_count": 5,
   "metadata": {},
   "outputs": [],
   "source": [
    "df = pd.read_csv('data/train.csv')"
   ]
  },
  {
   "cell_type": "code",
   "execution_count": 6,
   "metadata": {},
   "outputs": [],
   "source": [
    "df = df.loc[df['station']!='metropolitan']"
   ]
  },
  {
   "cell_type": "code",
   "execution_count": 7,
   "metadata": {},
   "outputs": [],
   "source": [
    "# df['Outcome linked to object of search'] = df['Outcome linked to object of search'].fillna(False)"
   ]
  },
  {
   "cell_type": "code",
   "execution_count": 8,
   "metadata": {},
   "outputs": [],
   "source": [
    "df['positive_outcome'] = df['Outcome'].apply(lambda x: True if x in positive_outcome_labels else False)"
   ]
  },
  {
   "cell_type": "code",
   "execution_count": 9,
   "metadata": {},
   "outputs": [
    {
     "name": "stdout",
     "output_type": "stream",
     "text": [
      "<class 'pandas.core.frame.DataFrame'>\n",
      "Int64Index: 419743 entries, 0 to 856609\n",
      "Data columns (total 17 columns):\n",
      " #   Column                                    Non-Null Count   Dtype  \n",
      "---  ------                                    --------------   -----  \n",
      " 0   observation_id                            419743 non-null  object \n",
      " 1   Type                                      419743 non-null  object \n",
      " 2   Date                                      419743 non-null  object \n",
      " 3   Part of a policing operation              209753 non-null  object \n",
      " 4   Latitude                                  309527 non-null  float64\n",
      " 5   Longitude                                 309527 non-null  float64\n",
      " 6   Gender                                    419743 non-null  object \n",
      " 7   Age range                                 419743 non-null  object \n",
      " 8   Self-defined ethnicity                    404608 non-null  object \n",
      " 9   Officer-defined ethnicity                 419743 non-null  object \n",
      " 10  Legislation                               379996 non-null  object \n",
      " 11  Object of search                          419743 non-null  object \n",
      " 12  Outcome                                   419743 non-null  object \n",
      " 13  Outcome linked to object of search        254683 non-null  object \n",
      " 14  Removal of more than just outer clothing  340097 non-null  object \n",
      " 15  station                                   419743 non-null  object \n",
      " 16  positive_outcome                          419743 non-null  bool   \n",
      "dtypes: bool(1), float64(2), object(14)\n",
      "memory usage: 54.8+ MB\n"
     ]
    }
   ],
   "source": [
    "df.info()"
   ]
  },
  {
   "cell_type": "code",
   "execution_count": 10,
   "metadata": {},
   "outputs": [
    {
     "data": {
      "text/plain": [
       "positive_outcome  Outcome linked to object of search\n",
       "False             False                                 110662\n",
       "                  True                                   45153\n",
       "True              False                                  28461\n",
       "                  True                                   70407\n",
       "dtype: int64"
      ]
     },
     "execution_count": 10,
     "metadata": {},
     "output_type": "execute_result"
    }
   ],
   "source": [
    "df[['positive_outcome', 'Outcome linked to object of search', ]].value_counts().sort_index()"
   ]
  },
  {
   "cell_type": "code",
   "execution_count": 11,
   "metadata": {},
   "outputs": [],
   "source": [
    "df['label'] = df[['positive_outcome', 'Outcome linked to object of search', ]].apply(lambda x: x['positive_outcome'] and x['Outcome linked to object of search'], axis=1)\n"
   ]
  },
  {
   "cell_type": "code",
   "execution_count": 12,
   "metadata": {},
   "outputs": [
    {
     "data": {
      "text/html": [
       "<div>\n",
       "<style scoped>\n",
       "    .dataframe tbody tr th:only-of-type {\n",
       "        vertical-align: middle;\n",
       "    }\n",
       "\n",
       "    .dataframe tbody tr th {\n",
       "        vertical-align: top;\n",
       "    }\n",
       "\n",
       "    .dataframe thead th {\n",
       "        text-align: right;\n",
       "    }\n",
       "</style>\n",
       "<table border=\"1\" class=\"dataframe\">\n",
       "  <thead>\n",
       "    <tr style=\"text-align: right;\">\n",
       "      <th></th>\n",
       "      <th>observation_id</th>\n",
       "      <th>Type</th>\n",
       "      <th>Date</th>\n",
       "      <th>Part of a policing operation</th>\n",
       "      <th>Latitude</th>\n",
       "      <th>Longitude</th>\n",
       "      <th>Gender</th>\n",
       "      <th>Age range</th>\n",
       "      <th>Self-defined ethnicity</th>\n",
       "      <th>Officer-defined ethnicity</th>\n",
       "      <th>Legislation</th>\n",
       "      <th>Object of search</th>\n",
       "      <th>Outcome</th>\n",
       "      <th>Outcome linked to object of search</th>\n",
       "      <th>Removal of more than just outer clothing</th>\n",
       "      <th>station</th>\n",
       "      <th>positive_outcome</th>\n",
       "      <th>label</th>\n",
       "    </tr>\n",
       "  </thead>\n",
       "  <tbody>\n",
       "    <tr>\n",
       "      <th>0</th>\n",
       "      <td>2e4d0094-c30b-471b-a211-72a9790feca2</td>\n",
       "      <td>Person search</td>\n",
       "      <td>2020-12-01T01:10:00+00:00</td>\n",
       "      <td>NaN</td>\n",
       "      <td>50.798824</td>\n",
       "      <td>-1.089471</td>\n",
       "      <td>Male</td>\n",
       "      <td>25-34</td>\n",
       "      <td>Other ethnic group - Not stated</td>\n",
       "      <td>White</td>\n",
       "      <td>Police and Criminal Evidence Act 1984 (section 1)</td>\n",
       "      <td>Article for use in theft</td>\n",
       "      <td>Community resolution</td>\n",
       "      <td>False</td>\n",
       "      <td>False</td>\n",
       "      <td>hampshire</td>\n",
       "      <td>True</td>\n",
       "      <td>False</td>\n",
       "    </tr>\n",
       "    <tr>\n",
       "      <th>1</th>\n",
       "      <td>4779fbe8-6e05-4534-85fd-db32952ee309</td>\n",
       "      <td>Person search</td>\n",
       "      <td>2020-12-01T02:00:00+00:00</td>\n",
       "      <td>NaN</td>\n",
       "      <td>50.785099</td>\n",
       "      <td>-1.091540</td>\n",
       "      <td>Male</td>\n",
       "      <td>over 34</td>\n",
       "      <td>White - Any other White background</td>\n",
       "      <td>Other</td>\n",
       "      <td>Misuse of Drugs Act 1971 (section 23)</td>\n",
       "      <td>Controlled drugs</td>\n",
       "      <td>A no further action disposal</td>\n",
       "      <td>False</td>\n",
       "      <td>False</td>\n",
       "      <td>hampshire</td>\n",
       "      <td>False</td>\n",
       "      <td>False</td>\n",
       "    </tr>\n",
       "    <tr>\n",
       "      <th>2</th>\n",
       "      <td>cb5c685d-acac-42e2-914d-75e6ff73b0a8</td>\n",
       "      <td>Person search</td>\n",
       "      <td>2020-12-01T09:15:00+00:00</td>\n",
       "      <td>NaN</td>\n",
       "      <td>50.952006</td>\n",
       "      <td>-1.403341</td>\n",
       "      <td>Male</td>\n",
       "      <td>over 34</td>\n",
       "      <td>White - English/Welsh/Scottish/Northern Irish/...</td>\n",
       "      <td>White</td>\n",
       "      <td>Misuse of Drugs Act 1971 (section 23)</td>\n",
       "      <td>Controlled drugs</td>\n",
       "      <td>A no further action disposal</td>\n",
       "      <td>False</td>\n",
       "      <td>True</td>\n",
       "      <td>hampshire</td>\n",
       "      <td>False</td>\n",
       "      <td>False</td>\n",
       "    </tr>\n",
       "    <tr>\n",
       "      <th>3</th>\n",
       "      <td>f486e116-5b1e-45db-9931-a7f070c5c478</td>\n",
       "      <td>Person search</td>\n",
       "      <td>2020-12-01T10:20:00+00:00</td>\n",
       "      <td>NaN</td>\n",
       "      <td>50.806383</td>\n",
       "      <td>-1.079844</td>\n",
       "      <td>Male</td>\n",
       "      <td>10-17</td>\n",
       "      <td>Other ethnic group - Not stated</td>\n",
       "      <td>White</td>\n",
       "      <td>Police and Criminal Evidence Act 1984 (section 1)</td>\n",
       "      <td>Stolen goods</td>\n",
       "      <td>A no further action disposal</td>\n",
       "      <td>False</td>\n",
       "      <td>False</td>\n",
       "      <td>hampshire</td>\n",
       "      <td>False</td>\n",
       "      <td>False</td>\n",
       "    </tr>\n",
       "    <tr>\n",
       "      <th>4</th>\n",
       "      <td>78f4020e-12cc-4889-bf1a-2f2c29b2f662</td>\n",
       "      <td>Person search</td>\n",
       "      <td>2020-12-01T10:24:00+00:00</td>\n",
       "      <td>NaN</td>\n",
       "      <td>50.806670</td>\n",
       "      <td>-1.081982</td>\n",
       "      <td>Male</td>\n",
       "      <td>10-17</td>\n",
       "      <td>Other ethnic group - Not stated</td>\n",
       "      <td>Asian</td>\n",
       "      <td>Police and Criminal Evidence Act 1984 (section 1)</td>\n",
       "      <td>Offensive weapons</td>\n",
       "      <td>A no further action disposal</td>\n",
       "      <td>False</td>\n",
       "      <td>False</td>\n",
       "      <td>hampshire</td>\n",
       "      <td>False</td>\n",
       "      <td>False</td>\n",
       "    </tr>\n",
       "    <tr>\n",
       "      <th>...</th>\n",
       "      <td>...</td>\n",
       "      <td>...</td>\n",
       "      <td>...</td>\n",
       "      <td>...</td>\n",
       "      <td>...</td>\n",
       "      <td>...</td>\n",
       "      <td>...</td>\n",
       "      <td>...</td>\n",
       "      <td>...</td>\n",
       "      <td>...</td>\n",
       "      <td>...</td>\n",
       "      <td>...</td>\n",
       "      <td>...</td>\n",
       "      <td>...</td>\n",
       "      <td>...</td>\n",
       "      <td>...</td>\n",
       "      <td>...</td>\n",
       "      <td>...</td>\n",
       "    </tr>\n",
       "    <tr>\n",
       "      <th>856605</th>\n",
       "      <td>ee337b9a-12ad-45fd-8c60-49091a0f4ab8</td>\n",
       "      <td>Person and Vehicle search</td>\n",
       "      <td>2020-04-30T15:10:00+00:00</td>\n",
       "      <td>NaN</td>\n",
       "      <td>54.965502</td>\n",
       "      <td>-1.604609</td>\n",
       "      <td>Male</td>\n",
       "      <td>18-24</td>\n",
       "      <td>White - Any other White background</td>\n",
       "      <td>White</td>\n",
       "      <td>Misuse of Drugs Act 1971 (section 23)</td>\n",
       "      <td>Controlled drugs</td>\n",
       "      <td>A no further action disposal</td>\n",
       "      <td>True</td>\n",
       "      <td>False</td>\n",
       "      <td>northumbria</td>\n",
       "      <td>False</td>\n",
       "      <td>False</td>\n",
       "    </tr>\n",
       "    <tr>\n",
       "      <th>856606</th>\n",
       "      <td>5973a004-e579-4dd2-bc26-71ab5717f87a</td>\n",
       "      <td>Person and Vehicle search</td>\n",
       "      <td>2020-04-30T15:10:00+00:00</td>\n",
       "      <td>NaN</td>\n",
       "      <td>54.965502</td>\n",
       "      <td>-1.604609</td>\n",
       "      <td>Male</td>\n",
       "      <td>25-34</td>\n",
       "      <td>White - Any other White background</td>\n",
       "      <td>Other</td>\n",
       "      <td>Misuse of Drugs Act 1971 (section 23)</td>\n",
       "      <td>Controlled drugs</td>\n",
       "      <td>A no further action disposal</td>\n",
       "      <td>True</td>\n",
       "      <td>True</td>\n",
       "      <td>northumbria</td>\n",
       "      <td>False</td>\n",
       "      <td>False</td>\n",
       "    </tr>\n",
       "    <tr>\n",
       "      <th>856607</th>\n",
       "      <td>ad053a34-364e-4d24-8f5c-9734ab5fdbe0</td>\n",
       "      <td>Person and Vehicle search</td>\n",
       "      <td>2020-04-30T17:00:00+00:00</td>\n",
       "      <td>NaN</td>\n",
       "      <td>54.966266</td>\n",
       "      <td>-1.453704</td>\n",
       "      <td>Male</td>\n",
       "      <td>18-24</td>\n",
       "      <td>White - English/Welsh/Scottish/Northern Irish/...</td>\n",
       "      <td>White</td>\n",
       "      <td>Misuse of Drugs Act 1971 (section 23)</td>\n",
       "      <td>Controlled drugs</td>\n",
       "      <td>Khat or Cannabis warning</td>\n",
       "      <td>True</td>\n",
       "      <td>False</td>\n",
       "      <td>northumbria</td>\n",
       "      <td>True</td>\n",
       "      <td>True</td>\n",
       "    </tr>\n",
       "    <tr>\n",
       "      <th>856608</th>\n",
       "      <td>8736e5ec-7ca2-420b-ad56-4dd88d27fe6e</td>\n",
       "      <td>Person search</td>\n",
       "      <td>2020-04-30T17:35:00+00:00</td>\n",
       "      <td>NaN</td>\n",
       "      <td>54.971596</td>\n",
       "      <td>-1.636589</td>\n",
       "      <td>Male</td>\n",
       "      <td>25-34</td>\n",
       "      <td>White - English/Welsh/Scottish/Northern Irish/...</td>\n",
       "      <td>White</td>\n",
       "      <td>Misuse of Drugs Act 1971 (section 23)</td>\n",
       "      <td>Controlled drugs</td>\n",
       "      <td>Arrest</td>\n",
       "      <td>True</td>\n",
       "      <td>False</td>\n",
       "      <td>northumbria</td>\n",
       "      <td>True</td>\n",
       "      <td>True</td>\n",
       "    </tr>\n",
       "    <tr>\n",
       "      <th>856609</th>\n",
       "      <td>a697ebdf-0ff2-4d6e-8c0e-1e6285858301</td>\n",
       "      <td>Person search</td>\n",
       "      <td>2020-04-30T17:36:00+00:00</td>\n",
       "      <td>NaN</td>\n",
       "      <td>54.972352</td>\n",
       "      <td>-1.637175</td>\n",
       "      <td>Male</td>\n",
       "      <td>18-24</td>\n",
       "      <td>White - English/Welsh/Scottish/Northern Irish/...</td>\n",
       "      <td>White</td>\n",
       "      <td>Misuse of Drugs Act 1971 (section 23)</td>\n",
       "      <td>Controlled drugs</td>\n",
       "      <td>Arrest</td>\n",
       "      <td>True</td>\n",
       "      <td>False</td>\n",
       "      <td>northumbria</td>\n",
       "      <td>True</td>\n",
       "      <td>True</td>\n",
       "    </tr>\n",
       "  </tbody>\n",
       "</table>\n",
       "<p>419743 rows × 18 columns</p>\n",
       "</div>"
      ],
      "text/plain": [
       "                              observation_id                       Type  \\\n",
       "0       2e4d0094-c30b-471b-a211-72a9790feca2              Person search   \n",
       "1       4779fbe8-6e05-4534-85fd-db32952ee309              Person search   \n",
       "2       cb5c685d-acac-42e2-914d-75e6ff73b0a8              Person search   \n",
       "3       f486e116-5b1e-45db-9931-a7f070c5c478              Person search   \n",
       "4       78f4020e-12cc-4889-bf1a-2f2c29b2f662              Person search   \n",
       "...                                      ...                        ...   \n",
       "856605  ee337b9a-12ad-45fd-8c60-49091a0f4ab8  Person and Vehicle search   \n",
       "856606  5973a004-e579-4dd2-bc26-71ab5717f87a  Person and Vehicle search   \n",
       "856607  ad053a34-364e-4d24-8f5c-9734ab5fdbe0  Person and Vehicle search   \n",
       "856608  8736e5ec-7ca2-420b-ad56-4dd88d27fe6e              Person search   \n",
       "856609  a697ebdf-0ff2-4d6e-8c0e-1e6285858301              Person search   \n",
       "\n",
       "                             Date Part of a policing operation   Latitude  \\\n",
       "0       2020-12-01T01:10:00+00:00                          NaN  50.798824   \n",
       "1       2020-12-01T02:00:00+00:00                          NaN  50.785099   \n",
       "2       2020-12-01T09:15:00+00:00                          NaN  50.952006   \n",
       "3       2020-12-01T10:20:00+00:00                          NaN  50.806383   \n",
       "4       2020-12-01T10:24:00+00:00                          NaN  50.806670   \n",
       "...                           ...                          ...        ...   \n",
       "856605  2020-04-30T15:10:00+00:00                          NaN  54.965502   \n",
       "856606  2020-04-30T15:10:00+00:00                          NaN  54.965502   \n",
       "856607  2020-04-30T17:00:00+00:00                          NaN  54.966266   \n",
       "856608  2020-04-30T17:35:00+00:00                          NaN  54.971596   \n",
       "856609  2020-04-30T17:36:00+00:00                          NaN  54.972352   \n",
       "\n",
       "        Longitude Gender Age range  \\\n",
       "0       -1.089471   Male     25-34   \n",
       "1       -1.091540   Male   over 34   \n",
       "2       -1.403341   Male   over 34   \n",
       "3       -1.079844   Male     10-17   \n",
       "4       -1.081982   Male     10-17   \n",
       "...           ...    ...       ...   \n",
       "856605  -1.604609   Male     18-24   \n",
       "856606  -1.604609   Male     25-34   \n",
       "856607  -1.453704   Male     18-24   \n",
       "856608  -1.636589   Male     25-34   \n",
       "856609  -1.637175   Male     18-24   \n",
       "\n",
       "                                   Self-defined ethnicity  \\\n",
       "0                         Other ethnic group - Not stated   \n",
       "1                      White - Any other White background   \n",
       "2       White - English/Welsh/Scottish/Northern Irish/...   \n",
       "3                         Other ethnic group - Not stated   \n",
       "4                         Other ethnic group - Not stated   \n",
       "...                                                   ...   \n",
       "856605                 White - Any other White background   \n",
       "856606                 White - Any other White background   \n",
       "856607  White - English/Welsh/Scottish/Northern Irish/...   \n",
       "856608  White - English/Welsh/Scottish/Northern Irish/...   \n",
       "856609  White - English/Welsh/Scottish/Northern Irish/...   \n",
       "\n",
       "       Officer-defined ethnicity  \\\n",
       "0                          White   \n",
       "1                          Other   \n",
       "2                          White   \n",
       "3                          White   \n",
       "4                          Asian   \n",
       "...                          ...   \n",
       "856605                     White   \n",
       "856606                     Other   \n",
       "856607                     White   \n",
       "856608                     White   \n",
       "856609                     White   \n",
       "\n",
       "                                              Legislation  \\\n",
       "0       Police and Criminal Evidence Act 1984 (section 1)   \n",
       "1                   Misuse of Drugs Act 1971 (section 23)   \n",
       "2                   Misuse of Drugs Act 1971 (section 23)   \n",
       "3       Police and Criminal Evidence Act 1984 (section 1)   \n",
       "4       Police and Criminal Evidence Act 1984 (section 1)   \n",
       "...                                                   ...   \n",
       "856605              Misuse of Drugs Act 1971 (section 23)   \n",
       "856606              Misuse of Drugs Act 1971 (section 23)   \n",
       "856607              Misuse of Drugs Act 1971 (section 23)   \n",
       "856608              Misuse of Drugs Act 1971 (section 23)   \n",
       "856609              Misuse of Drugs Act 1971 (section 23)   \n",
       "\n",
       "                Object of search                       Outcome  \\\n",
       "0       Article for use in theft          Community resolution   \n",
       "1               Controlled drugs  A no further action disposal   \n",
       "2               Controlled drugs  A no further action disposal   \n",
       "3                   Stolen goods  A no further action disposal   \n",
       "4              Offensive weapons  A no further action disposal   \n",
       "...                          ...                           ...   \n",
       "856605          Controlled drugs  A no further action disposal   \n",
       "856606          Controlled drugs  A no further action disposal   \n",
       "856607          Controlled drugs      Khat or Cannabis warning   \n",
       "856608          Controlled drugs                        Arrest   \n",
       "856609          Controlled drugs                        Arrest   \n",
       "\n",
       "       Outcome linked to object of search  \\\n",
       "0                                   False   \n",
       "1                                   False   \n",
       "2                                   False   \n",
       "3                                   False   \n",
       "4                                   False   \n",
       "...                                   ...   \n",
       "856605                               True   \n",
       "856606                               True   \n",
       "856607                               True   \n",
       "856608                               True   \n",
       "856609                               True   \n",
       "\n",
       "       Removal of more than just outer clothing      station  \\\n",
       "0                                         False    hampshire   \n",
       "1                                         False    hampshire   \n",
       "2                                          True    hampshire   \n",
       "3                                         False    hampshire   \n",
       "4                                         False    hampshire   \n",
       "...                                         ...          ...   \n",
       "856605                                    False  northumbria   \n",
       "856606                                     True  northumbria   \n",
       "856607                                    False  northumbria   \n",
       "856608                                    False  northumbria   \n",
       "856609                                    False  northumbria   \n",
       "\n",
       "        positive_outcome  label  \n",
       "0                   True  False  \n",
       "1                  False  False  \n",
       "2                  False  False  \n",
       "3                  False  False  \n",
       "4                  False  False  \n",
       "...                  ...    ...  \n",
       "856605             False  False  \n",
       "856606             False  False  \n",
       "856607              True   True  \n",
       "856608              True   True  \n",
       "856609              True   True  \n",
       "\n",
       "[419743 rows x 18 columns]"
      ]
     },
     "execution_count": 12,
     "metadata": {},
     "output_type": "execute_result"
    }
   ],
   "source": [
    "df"
   ]
  },
  {
   "cell_type": "code",
   "execution_count": 13,
   "metadata": {},
   "outputs": [
    {
     "data": {
      "text/plain": [
       "A no further action disposal       307822\n",
       "Arrest                              56013\n",
       "Community resolution                28604\n",
       "Khat or Cannabis warning            11696\n",
       "Summons / charged by post           10405\n",
       "Caution (simple or conditional)      2908\n",
       "Penalty Notice for Disorder          2295\n",
       "Name: Outcome, dtype: int64"
      ]
     },
     "execution_count": 13,
     "metadata": {},
     "output_type": "execute_result"
    }
   ],
   "source": [
    "df.Outcome.value_counts()"
   ]
  },
  {
   "cell_type": "code",
   "execution_count": 14,
   "metadata": {},
   "outputs": [
    {
     "data": {
      "text/plain": [
       "Object of search                              \n",
       "Anything to threaten or harm anyone                 9349\n",
       "Article for use in theft                           38706\n",
       "Articles for use in criminal damage                14567\n",
       "Controlled drugs                                  267946\n",
       "Crossbows                                             54\n",
       "Detailed object of search unavailable                309\n",
       "Evidence of hunting any wild mammal with a dog        12\n",
       "Evidence of offences under the Act                  3304\n",
       "Evidence of wildlife offences                         46\n",
       "Firearms                                            3300\n",
       "Fireworks                                           3331\n",
       "Game or poaching equipment                           321\n",
       "Goods on which duty has not been paid etc.            97\n",
       "Offensive weapons                                  45455\n",
       "Psychoactive substances                             4805\n",
       "Seals or hunting equipment                             7\n",
       "Stolen goods                                       28134\n",
       "dtype: int64"
      ]
     },
     "execution_count": 14,
     "metadata": {},
     "output_type": "execute_result"
    }
   ],
   "source": [
    "df[[\"Object of search\"]].value_counts().sort_index()"
   ]
  },
  {
   "cell_type": "code",
   "execution_count": 15,
   "metadata": {},
   "outputs": [
    {
     "data": {
      "text/plain": [
       "Object of search                     Outcome linked to object of search  Outcome                        \n",
       "Anything to threaten or harm anyone  False                               A no further action disposal       4851\n",
       "                                                                         Arrest                              446\n",
       "                                                                         Caution (simple or conditional)       4\n",
       "                                                                         Community resolution                102\n",
       "                                                                         Khat or Cannabis warning             50\n",
       "                                                                                                            ... \n",
       "Stolen goods                         True                                Caution (simple or conditional)      53\n",
       "                                                                         Community resolution                845\n",
       "                                                                         Khat or Cannabis warning             17\n",
       "                                                                         Penalty Notice for Disorder          39\n",
       "                                                                         Summons / charged by post           607\n",
       "Length: 181, dtype: int64"
      ]
     },
     "execution_count": 15,
     "metadata": {},
     "output_type": "execute_result"
    }
   ],
   "source": [
    "df[[\"Object of search\",\"Outcome linked to object of search\", \"Outcome\"]].value_counts().sort_index()"
   ]
  },
  {
   "cell_type": "code",
   "execution_count": 16,
   "metadata": {},
   "outputs": [
    {
     "data": {
      "text/plain": [
       "Outcome linked to object of search\n",
       "False                                 139123\n",
       "True                                  115560\n",
       "dtype: int64"
      ]
     },
     "execution_count": 16,
     "metadata": {},
     "output_type": "execute_result"
    }
   ],
   "source": [
    "df[[\"Outcome linked to object of search\"]].value_counts().sort_index()"
   ]
  },
  {
   "cell_type": "code",
   "execution_count": 17,
   "metadata": {},
   "outputs": [
    {
     "data": {
      "text/plain": [
       "Part of a policing operation\n",
       "False                           191281\n",
       "True                             18472\n",
       "dtype: int64"
      ]
     },
     "execution_count": 17,
     "metadata": {},
     "output_type": "execute_result"
    }
   ],
   "source": [
    "df[[\"Part of a policing operation\"]].value_counts()"
   ]
  },
  {
   "cell_type": "code",
   "execution_count": 18,
   "metadata": {},
   "outputs": [],
   "source": [
    "df_clean  = df[[\n",
    "    'observation_id',\n",
    "    'Type',\n",
    "    'Date',\n",
    "    'Part of a policing operation',\n",
    "    'Latitude',\n",
    "    'Longitude',\n",
    "    'Gender',\n",
    "    'Age range',\n",
    "    'Officer-defined ethnicity',\n",
    "    'Legislation',\n",
    "    'Object of search',\n",
    "    'station',\n",
    "    'label',\n",
    "    'Outcome linked to object of search',\n",
    "]].dropna(subset=[\n",
    "    'Type',\n",
    "    'Gender',\n",
    "    'Age range',\n",
    "    'Officer-defined ethnicity',\n",
    "    'Object of search',\n",
    "    'station',\n",
    "    'label',\n",
    "    'Part of a policing operation',\n",
    "    'Outcome linked to object of search',\n",
    " ])"
   ]
  },
  {
   "cell_type": "code",
   "execution_count": 19,
   "metadata": {},
   "outputs": [],
   "source": [
    "X, X_test, y, y_test = train_test_split(df_clean[[\n",
    "                                                        'observation_id',\n",
    "                                                        'Type',\n",
    "                                                        'Date',\n",
    "                                                        'Part of a policing operation',\n",
    "                                                        'Latitude',\n",
    "                                                        'Longitude',\n",
    "                                                        'Gender',\n",
    "                                                        'Age range',\n",
    "                                                        'Officer-defined ethnicity',\n",
    "                                                        'Legislation',\n",
    "                                                        'Object of search',\n",
    "                                                        'station',\n",
    "                                                    ]], df_clean[[\"label\"]], test_size=0.33, random_state=42)"
   ]
  },
  {
   "cell_type": "code",
   "execution_count": 20,
   "metadata": {},
   "outputs": [],
   "source": [
    "# X = df_clean[[\n",
    "#     'observation_id',\n",
    "#     'Type',\n",
    "#     'Date',\n",
    "#     'Part of a policing operation',\n",
    "#     'Latitude',\n",
    "#     'Longitude',\n",
    "#     'Gender',\n",
    "#     'Age range',\n",
    "#     'Officer-defined ethnicity',\n",
    "#     'Legislation',\n",
    "#     'Object of search',\n",
    "#     'station',\n",
    "# ]]"
   ]
  },
  {
   "cell_type": "code",
   "execution_count": 21,
   "metadata": {},
   "outputs": [],
   "source": [
    "# y = df_clean[[\"label\"]]"
   ]
  },
  {
   "cell_type": "code",
   "execution_count": 22,
   "metadata": {},
   "outputs": [
    {
     "data": {
      "text/html": [
       "<div>\n",
       "<style scoped>\n",
       "    .dataframe tbody tr th:only-of-type {\n",
       "        vertical-align: middle;\n",
       "    }\n",
       "\n",
       "    .dataframe tbody tr th {\n",
       "        vertical-align: top;\n",
       "    }\n",
       "\n",
       "    .dataframe thead th {\n",
       "        text-align: right;\n",
       "    }\n",
       "</style>\n",
       "<table border=\"1\" class=\"dataframe\">\n",
       "  <thead>\n",
       "    <tr style=\"text-align: right;\">\n",
       "      <th></th>\n",
       "      <th>observation_id</th>\n",
       "      <th>Type</th>\n",
       "      <th>Date</th>\n",
       "      <th>Part of a policing operation</th>\n",
       "      <th>Latitude</th>\n",
       "      <th>Longitude</th>\n",
       "      <th>Gender</th>\n",
       "      <th>Age range</th>\n",
       "      <th>Officer-defined ethnicity</th>\n",
       "      <th>Legislation</th>\n",
       "      <th>Object of search</th>\n",
       "      <th>station</th>\n",
       "    </tr>\n",
       "  </thead>\n",
       "  <tbody>\n",
       "    <tr>\n",
       "      <th>458720</th>\n",
       "      <td>639dd366-bb14-4da5-8a7f-60f7cb005191</td>\n",
       "      <td>Person search</td>\n",
       "      <td>2021-07-22T23:45:00+00:00</td>\n",
       "      <td>False</td>\n",
       "      <td>52.926522</td>\n",
       "      <td>0.496395</td>\n",
       "      <td>Male</td>\n",
       "      <td>25-34</td>\n",
       "      <td>Asian</td>\n",
       "      <td>Misuse of Drugs Act 1971 (section 23)</td>\n",
       "      <td>Controlled drugs</td>\n",
       "      <td>norfolk</td>\n",
       "    </tr>\n",
       "    <tr>\n",
       "      <th>595850</th>\n",
       "      <td>f93a2ccd-f12b-4e3c-b537-8e3312aa52df</td>\n",
       "      <td>Person and Vehicle search</td>\n",
       "      <td>2021-05-03T13:36:29+00:00</td>\n",
       "      <td>False</td>\n",
       "      <td>52.350592</td>\n",
       "      <td>-1.270390</td>\n",
       "      <td>Male</td>\n",
       "      <td>18-24</td>\n",
       "      <td>White</td>\n",
       "      <td>Police and Criminal Evidence Act 1984 (section 1)</td>\n",
       "      <td>Stolen goods</td>\n",
       "      <td>warwickshire</td>\n",
       "    </tr>\n",
       "    <tr>\n",
       "      <th>296544</th>\n",
       "      <td>b816b66f-8135-4d18-bcab-b6f1599b81db</td>\n",
       "      <td>Person search</td>\n",
       "      <td>2020-06-11T03:01:00+00:00</td>\n",
       "      <td>False</td>\n",
       "      <td>51.846788</td>\n",
       "      <td>1.268630</td>\n",
       "      <td>Male</td>\n",
       "      <td>18-24</td>\n",
       "      <td>Black</td>\n",
       "      <td>Police and Criminal Evidence Act 1984 (section 1)</td>\n",
       "      <td>Offensive weapons</td>\n",
       "      <td>essex</td>\n",
       "    </tr>\n",
       "    <tr>\n",
       "      <th>280638</th>\n",
       "      <td>7e2e77c9-ab19-4b47-bf8d-a58b7aef3e38</td>\n",
       "      <td>Person search</td>\n",
       "      <td>2020-06-13T18:15:00+00:00</td>\n",
       "      <td>False</td>\n",
       "      <td>53.776089</td>\n",
       "      <td>-1.541984</td>\n",
       "      <td>Male</td>\n",
       "      <td>25-34</td>\n",
       "      <td>White</td>\n",
       "      <td>Police and Criminal Evidence Act 1984 (section 1)</td>\n",
       "      <td>Article for use in theft</td>\n",
       "      <td>west-yorkshire</td>\n",
       "    </tr>\n",
       "    <tr>\n",
       "      <th>647721</th>\n",
       "      <td>09f2e251-dd5a-4546-9872-c591526715ce</td>\n",
       "      <td>Person search</td>\n",
       "      <td>2020-05-30T00:01:00+00:00</td>\n",
       "      <td>False</td>\n",
       "      <td>51.604211</td>\n",
       "      <td>0.084091</td>\n",
       "      <td>Male</td>\n",
       "      <td>25-34</td>\n",
       "      <td>White</td>\n",
       "      <td>Misuse of Drugs Act 1971 (section 23)</td>\n",
       "      <td>Controlled drugs</td>\n",
       "      <td>essex</td>\n",
       "    </tr>\n",
       "    <tr>\n",
       "      <th>...</th>\n",
       "      <td>...</td>\n",
       "      <td>...</td>\n",
       "      <td>...</td>\n",
       "      <td>...</td>\n",
       "      <td>...</td>\n",
       "      <td>...</td>\n",
       "      <td>...</td>\n",
       "      <td>...</td>\n",
       "      <td>...</td>\n",
       "      <td>...</td>\n",
       "      <td>...</td>\n",
       "      <td>...</td>\n",
       "    </tr>\n",
       "    <tr>\n",
       "      <th>688949</th>\n",
       "      <td>a00bd29b-8603-4c8b-b4ba-d23969360d75</td>\n",
       "      <td>Person search</td>\n",
       "      <td>2020-05-13T14:03:00+00:00</td>\n",
       "      <td>False</td>\n",
       "      <td>51.860974</td>\n",
       "      <td>-2.241702</td>\n",
       "      <td>Male</td>\n",
       "      <td>25-34</td>\n",
       "      <td>White</td>\n",
       "      <td>Misuse of Drugs Act 1971 (section 23)</td>\n",
       "      <td>Controlled drugs</td>\n",
       "      <td>gloucestershire</td>\n",
       "    </tr>\n",
       "    <tr>\n",
       "      <th>569043</th>\n",
       "      <td>5e5f548a-e346-47b2-b9e2-c6d893bbf201</td>\n",
       "      <td>Person search</td>\n",
       "      <td>2021-05-06T21:26:24+00:00</td>\n",
       "      <td>False</td>\n",
       "      <td>52.371855</td>\n",
       "      <td>-2.244513</td>\n",
       "      <td>Male</td>\n",
       "      <td>over 34</td>\n",
       "      <td>White</td>\n",
       "      <td>Police and Criminal Evidence Act 1984 (section 1)</td>\n",
       "      <td>Stolen goods</td>\n",
       "      <td>west-mercia</td>\n",
       "    </tr>\n",
       "    <tr>\n",
       "      <th>731011</th>\n",
       "      <td>3f8865b1-2f70-4044-b56f-92b0bdb988ba</td>\n",
       "      <td>Person and Vehicle search</td>\n",
       "      <td>2021-09-12T23:50:00+00:00</td>\n",
       "      <td>False</td>\n",
       "      <td>NaN</td>\n",
       "      <td>NaN</td>\n",
       "      <td>Male</td>\n",
       "      <td>over 34</td>\n",
       "      <td>Black</td>\n",
       "      <td>NaN</td>\n",
       "      <td>Controlled drugs</td>\n",
       "      <td>thames-valley</td>\n",
       "    </tr>\n",
       "    <tr>\n",
       "      <th>801642</th>\n",
       "      <td>f760da22-43a5-4ae4-b4b1-83fb0089f16a</td>\n",
       "      <td>Person search</td>\n",
       "      <td>2020-08-12T03:00:00+00:00</td>\n",
       "      <td>False</td>\n",
       "      <td>NaN</td>\n",
       "      <td>NaN</td>\n",
       "      <td>Male</td>\n",
       "      <td>18-24</td>\n",
       "      <td>White</td>\n",
       "      <td>Police and Criminal Evidence Act 1984 (section 1)</td>\n",
       "      <td>Article for use in theft</td>\n",
       "      <td>south-yorkshire</td>\n",
       "    </tr>\n",
       "    <tr>\n",
       "      <th>692954</th>\n",
       "      <td>8d200d62-8a68-47cd-afb4-3b77cd334af4</td>\n",
       "      <td>Person search</td>\n",
       "      <td>2020-05-04T15:10:00+00:00</td>\n",
       "      <td>False</td>\n",
       "      <td>NaN</td>\n",
       "      <td>NaN</td>\n",
       "      <td>Male</td>\n",
       "      <td>25-34</td>\n",
       "      <td>White</td>\n",
       "      <td>Police and Criminal Evidence Act 1984 (section 1)</td>\n",
       "      <td>Article for use in theft</td>\n",
       "      <td>south-yorkshire</td>\n",
       "    </tr>\n",
       "  </tbody>\n",
       "</table>\n",
       "<p>105847 rows × 12 columns</p>\n",
       "</div>"
      ],
      "text/plain": [
       "                              observation_id                       Type  \\\n",
       "458720  639dd366-bb14-4da5-8a7f-60f7cb005191              Person search   \n",
       "595850  f93a2ccd-f12b-4e3c-b537-8e3312aa52df  Person and Vehicle search   \n",
       "296544  b816b66f-8135-4d18-bcab-b6f1599b81db              Person search   \n",
       "280638  7e2e77c9-ab19-4b47-bf8d-a58b7aef3e38              Person search   \n",
       "647721  09f2e251-dd5a-4546-9872-c591526715ce              Person search   \n",
       "...                                      ...                        ...   \n",
       "688949  a00bd29b-8603-4c8b-b4ba-d23969360d75              Person search   \n",
       "569043  5e5f548a-e346-47b2-b9e2-c6d893bbf201              Person search   \n",
       "731011  3f8865b1-2f70-4044-b56f-92b0bdb988ba  Person and Vehicle search   \n",
       "801642  f760da22-43a5-4ae4-b4b1-83fb0089f16a              Person search   \n",
       "692954  8d200d62-8a68-47cd-afb4-3b77cd334af4              Person search   \n",
       "\n",
       "                             Date Part of a policing operation   Latitude  \\\n",
       "458720  2021-07-22T23:45:00+00:00                        False  52.926522   \n",
       "595850  2021-05-03T13:36:29+00:00                        False  52.350592   \n",
       "296544  2020-06-11T03:01:00+00:00                        False  51.846788   \n",
       "280638  2020-06-13T18:15:00+00:00                        False  53.776089   \n",
       "647721  2020-05-30T00:01:00+00:00                        False  51.604211   \n",
       "...                           ...                          ...        ...   \n",
       "688949  2020-05-13T14:03:00+00:00                        False  51.860974   \n",
       "569043  2021-05-06T21:26:24+00:00                        False  52.371855   \n",
       "731011  2021-09-12T23:50:00+00:00                        False        NaN   \n",
       "801642  2020-08-12T03:00:00+00:00                        False        NaN   \n",
       "692954  2020-05-04T15:10:00+00:00                        False        NaN   \n",
       "\n",
       "        Longitude Gender Age range Officer-defined ethnicity  \\\n",
       "458720   0.496395   Male     25-34                     Asian   \n",
       "595850  -1.270390   Male     18-24                     White   \n",
       "296544   1.268630   Male     18-24                     Black   \n",
       "280638  -1.541984   Male     25-34                     White   \n",
       "647721   0.084091   Male     25-34                     White   \n",
       "...           ...    ...       ...                       ...   \n",
       "688949  -2.241702   Male     25-34                     White   \n",
       "569043  -2.244513   Male   over 34                     White   \n",
       "731011        NaN   Male   over 34                     Black   \n",
       "801642        NaN   Male     18-24                     White   \n",
       "692954        NaN   Male     25-34                     White   \n",
       "\n",
       "                                              Legislation  \\\n",
       "458720              Misuse of Drugs Act 1971 (section 23)   \n",
       "595850  Police and Criminal Evidence Act 1984 (section 1)   \n",
       "296544  Police and Criminal Evidence Act 1984 (section 1)   \n",
       "280638  Police and Criminal Evidence Act 1984 (section 1)   \n",
       "647721              Misuse of Drugs Act 1971 (section 23)   \n",
       "...                                                   ...   \n",
       "688949              Misuse of Drugs Act 1971 (section 23)   \n",
       "569043  Police and Criminal Evidence Act 1984 (section 1)   \n",
       "731011                                                NaN   \n",
       "801642  Police and Criminal Evidence Act 1984 (section 1)   \n",
       "692954  Police and Criminal Evidence Act 1984 (section 1)   \n",
       "\n",
       "                Object of search          station  \n",
       "458720          Controlled drugs          norfolk  \n",
       "595850              Stolen goods     warwickshire  \n",
       "296544         Offensive weapons            essex  \n",
       "280638  Article for use in theft   west-yorkshire  \n",
       "647721          Controlled drugs            essex  \n",
       "...                          ...              ...  \n",
       "688949          Controlled drugs  gloucestershire  \n",
       "569043              Stolen goods      west-mercia  \n",
       "731011          Controlled drugs    thames-valley  \n",
       "801642  Article for use in theft  south-yorkshire  \n",
       "692954  Article for use in theft  south-yorkshire  \n",
       "\n",
       "[105847 rows x 12 columns]"
      ]
     },
     "execution_count": 22,
     "metadata": {},
     "output_type": "execute_result"
    }
   ],
   "source": [
    "X"
   ]
  },
  {
   "cell_type": "code",
   "execution_count": 23,
   "metadata": {},
   "outputs": [
    {
     "name": "stdout",
     "output_type": "stream",
     "text": [
      "<class 'pandas.core.frame.DataFrame'>\n",
      "Int64Index: 105847 entries, 458720 to 692954\n",
      "Data columns (total 12 columns):\n",
      " #   Column                        Non-Null Count   Dtype  \n",
      "---  ------                        --------------   -----  \n",
      " 0   observation_id                105847 non-null  object \n",
      " 1   Type                          105847 non-null  object \n",
      " 2   Date                          105847 non-null  object \n",
      " 3   Part of a policing operation  105847 non-null  object \n",
      " 4   Latitude                      78254 non-null   float64\n",
      " 5   Longitude                     78254 non-null   float64\n",
      " 6   Gender                        105847 non-null  object \n",
      " 7   Age range                     105847 non-null  object \n",
      " 8   Officer-defined ethnicity     105847 non-null  object \n",
      " 9   Legislation                   93832 non-null   object \n",
      " 10  Object of search              105847 non-null  object \n",
      " 11  station                       105847 non-null  object \n",
      "dtypes: float64(2), object(10)\n",
      "memory usage: 10.5+ MB\n"
     ]
    }
   ],
   "source": [
    "X.info()"
   ]
  },
  {
   "cell_type": "code",
   "execution_count": null,
   "metadata": {},
   "outputs": [],
   "source": []
  },
  {
   "cell_type": "code",
   "execution_count": 24,
   "metadata": {},
   "outputs": [
    {
     "data": {
      "text/plain": [
       "['observation_id',\n",
       " 'Type',\n",
       " 'Date',\n",
       " 'Part of a policing operation',\n",
       " 'Latitude',\n",
       " 'Longitude',\n",
       " 'Gender',\n",
       " 'Age range',\n",
       " 'Officer-defined ethnicity',\n",
       " 'Legislation',\n",
       " 'Object of search',\n",
       " 'station']"
      ]
     },
     "execution_count": 24,
     "metadata": {},
     "output_type": "execute_result"
    }
   ],
   "source": [
    "X.columns.tolist()"
   ]
  },
  {
   "cell_type": "code",
   "execution_count": 25,
   "metadata": {},
   "outputs": [
    {
     "data": {
      "text/plain": [
       "label\n",
       "False    0.7568\n",
       "True     0.2432\n",
       "dtype: float64"
      ]
     },
     "execution_count": 25,
     "metadata": {},
     "output_type": "execute_result"
    }
   ],
   "source": [
    "y.value_counts()/len(y)"
   ]
  },
  {
   "cell_type": "code",
   "execution_count": 26,
   "metadata": {},
   "outputs": [],
   "source": [
    "selected_columns = [\n",
    " 'Type',\n",
    " 'Gender',\n",
    " 'Age range',\n",
    " 'Officer-defined ethnicity',\n",
    " 'Object of search',\n",
    " 'station',\n",
    "]"
   ]
  },
  {
   "cell_type": "code",
   "execution_count": 27,
   "metadata": {},
   "outputs": [],
   "source": [
    "from sklearn.base import TransformerMixin, BaseEstimator\n",
    "import pandas as pd\n",
    "\n",
    "class ColumnSelector(BaseEstimator, TransformerMixin):\n",
    "    def __init__(self, columns):\n",
    "        self.columns = columns\n",
    "    \n",
    "    def fit(self, X, y=None):\n",
    "        return self\n",
    "    \n",
    "    def transform(self, X, y=None):\n",
    "        return X[self.columns]"
   ]
  },
  {
   "cell_type": "code",
   "execution_count": 28,
   "metadata": {},
   "outputs": [],
   "source": [
    "from sklearn.model_selection import train_test_split, cross_val_score, cross_validate"
   ]
  },
  {
   "cell_type": "code",
   "execution_count": 29,
   "metadata": {},
   "outputs": [],
   "source": [
    "from sklearn.linear_model import LogisticRegression, LinearRegression\n",
    "from sklearn.neighbors import KNeighborsClassifier\n",
    "from sklearn.svm import SVC\n",
    "from sklearn.tree import DecisionTreeClassifier\n",
    "from sklearn.ensemble import RandomForestClassifier\n",
    "from sklearn.ensemble import AdaBoostClassifier\n",
    "\n"
   ]
  },
  {
   "cell_type": "code",
   "execution_count": 30,
   "metadata": {},
   "outputs": [],
   "source": [
    "models = [\n",
    "    # ('linear_Regression', LinearRegression()),\n",
    "    ('Logistic Regression', LogisticRegression()),\n",
    "    # ('SVM', SVC()),\n",
    "    ('Decision Tree', DecisionTreeClassifier()),\n",
    "    ('Random Forest', RandomForestClassifier()),\n",
    "    ('AdaBoost', AdaBoostClassifier()),\n",
    "]"
   ]
  },
  {
   "cell_type": "code",
   "execution_count": 31,
   "metadata": {},
   "outputs": [],
   "source": [
    "from sklearn.pipeline import Pipeline\n",
    "from sklearn.preprocessing import OneHotEncoder\n",
    "from sklearn.compose import ColumnTransformer"
   ]
  },
  {
   "cell_type": "code",
   "execution_count": 32,
   "metadata": {},
   "outputs": [],
   "source": [
    "pipe = Pipeline([\n",
    "    ('column_selector', ColumnTransformer([(\"selector\", \"passthrough\", selected_columns)], remainder=\"drop\")),\n",
    "    ('onehot', OneHotEncoder(handle_unknown='ignore')),\n",
    "    ('classifier', None),\n",
    "])\n"
   ]
  },
  {
   "cell_type": "code",
   "execution_count": 33,
   "metadata": {},
   "outputs": [],
   "source": [
    "import copy"
   ]
  },
  {
   "cell_type": "code",
   "execution_count": 34,
   "metadata": {},
   "outputs": [
    {
     "name": "stderr",
     "output_type": "stream",
     "text": [
      "/home/xjrr/.virtualenvs/capstone/lib/python3.8/site-packages/sklearn/linear_model/_logistic.py:763: ConvergenceWarning: lbfgs failed to converge (status=1):\n",
      "STOP: TOTAL NO. of ITERATIONS REACHED LIMIT.\n",
      "\n",
      "Increase the number of iterations (max_iter) or scale the data as shown in:\n",
      "    https://scikit-learn.org/stable/modules/preprocessing.html\n",
      "Please also refer to the documentation for alternative solver options:\n",
      "    https://scikit-learn.org/stable/modules/linear_model.html#logistic-regression\n",
      "  n_iter_i = _check_optimize_result(\n"
     ]
    }
   ],
   "source": [
    "model_pred = {}\n",
    "model_pipe = {}\n",
    "for model_name, model in models:\n",
    "    pipe.set_params(classifier=model)\n",
    "    pipe.fit(X,y.astype('int').values.reshape(-1))\n",
    "    predictions = pipe.predict(X_test)\n",
    "    \n",
    "    model_pred[model_name]= predictions\n",
    "    model_pipe[model_name]= copy.deepcopy(pipe)"
   ]
  },
  {
   "cell_type": "code",
   "execution_count": 35,
   "metadata": {},
   "outputs": [
    {
     "data": {
      "text/plain": [
       "{'Logistic Regression': array([1, 0, 0, ..., 0, 0, 0]),\n",
       " 'Decision Tree': array([1, 0, 0, ..., 0, 0, 0]),\n",
       " 'Random Forest': array([1, 0, 0, ..., 0, 0, 0]),\n",
       " 'AdaBoost': array([1, 0, 0, ..., 0, 0, 0])}"
      ]
     },
     "execution_count": 35,
     "metadata": {},
     "output_type": "execute_result"
    }
   ],
   "source": [
    "model_pred"
   ]
  },
  {
   "cell_type": "code",
   "execution_count": 36,
   "metadata": {},
   "outputs": [
    {
     "data": {
      "text/plain": [
       "{'Logistic Regression': Pipeline(steps=[('column_selector',\n",
       "                  ColumnTransformer(transformers=[('selector', 'passthrough',\n",
       "                                                   ['Type', 'Gender',\n",
       "                                                    'Age range',\n",
       "                                                    'Officer-defined ethnicity',\n",
       "                                                    'Object of search',\n",
       "                                                    'station'])])),\n",
       "                 ('onehot', OneHotEncoder(handle_unknown='ignore')),\n",
       "                 ('classifier', LogisticRegression())]),\n",
       " 'Decision Tree': Pipeline(steps=[('column_selector',\n",
       "                  ColumnTransformer(transformers=[('selector', 'passthrough',\n",
       "                                                   ['Type', 'Gender',\n",
       "                                                    'Age range',\n",
       "                                                    'Officer-defined ethnicity',\n",
       "                                                    'Object of search',\n",
       "                                                    'station'])])),\n",
       "                 ('onehot', OneHotEncoder(handle_unknown='ignore')),\n",
       "                 ('classifier', DecisionTreeClassifier())]),\n",
       " 'Random Forest': Pipeline(steps=[('column_selector',\n",
       "                  ColumnTransformer(transformers=[('selector', 'passthrough',\n",
       "                                                   ['Type', 'Gender',\n",
       "                                                    'Age range',\n",
       "                                                    'Officer-defined ethnicity',\n",
       "                                                    'Object of search',\n",
       "                                                    'station'])])),\n",
       "                 ('onehot', OneHotEncoder(handle_unknown='ignore')),\n",
       "                 ('classifier', RandomForestClassifier())]),\n",
       " 'AdaBoost': Pipeline(steps=[('column_selector',\n",
       "                  ColumnTransformer(transformers=[('selector', 'passthrough',\n",
       "                                                   ['Type', 'Gender',\n",
       "                                                    'Age range',\n",
       "                                                    'Officer-defined ethnicity',\n",
       "                                                    'Object of search',\n",
       "                                                    'station'])])),\n",
       "                 ('onehot', OneHotEncoder(handle_unknown='ignore')),\n",
       "                 ('classifier', AdaBoostClassifier())])}"
      ]
     },
     "execution_count": 36,
     "metadata": {},
     "output_type": "execute_result"
    }
   ],
   "source": [
    "model_pipe"
   ]
  },
  {
   "cell_type": "code",
   "execution_count": null,
   "metadata": {},
   "outputs": [],
   "source": []
  },
  {
   "cell_type": "code",
   "execution_count": 37,
   "metadata": {},
   "outputs": [],
   "source": [
    "def verify_no_discrimination(X_test, y_true, y_pred, sensitive_column='SubjectRaceCode', max_diff=0.05):\n",
    "    \"\"\"\n",
    "    Verifies that no subdeparment has discrimination in between protected races\n",
    "    \n",
    "    \n",
    "    \"\"\"\n",
    "    \n",
    "    departments = X_test['station'].unique()\n",
    "    sensitive_classes = X_test[sensitive_column].unique()\n",
    "    \n",
    "    is_satisfied = True\n",
    "    problematic_departments = []\n",
    "    good_deparments = []\n",
    "    for department in departments:\n",
    "        precisions = {}\n",
    "        for sensitive_class in sensitive_classes:\n",
    "            mask = (X_test[sensitive_column] == sensitive_class) & (X_test['station'] == department)\n",
    "            if mask.sum():\n",
    "                precisions[sensitive_class] = precision_score(y_true[mask], y_pred[mask], pos_label=1, zero_division=0)\n",
    "                \n",
    "        diff = np.max(list(precisions.values())) - np.min(list(precisions.values()))\n",
    "        if diff > max_diff:\n",
    "            is_satisfied = False\n",
    "            problematic_departments.append((department, diff, precisions))\n",
    "        else:\n",
    "            good_deparments.append((department, diff, precisions))\n",
    "\n",
    "    return is_satisfied, problematic_departments, good_deparments"
   ]
  },
  {
   "cell_type": "code",
   "execution_count": 38,
   "metadata": {},
   "outputs": [
    {
     "data": {
      "text/html": [
       "<div>\n",
       "<style scoped>\n",
       "    .dataframe tbody tr th:only-of-type {\n",
       "        vertical-align: middle;\n",
       "    }\n",
       "\n",
       "    .dataframe tbody tr th {\n",
       "        vertical-align: top;\n",
       "    }\n",
       "\n",
       "    .dataframe thead th {\n",
       "        text-align: right;\n",
       "    }\n",
       "</style>\n",
       "<table border=\"1\" class=\"dataframe\">\n",
       "  <thead>\n",
       "    <tr style=\"text-align: right;\">\n",
       "      <th></th>\n",
       "      <th>label</th>\n",
       "    </tr>\n",
       "  </thead>\n",
       "  <tbody>\n",
       "    <tr>\n",
       "      <th>290896</th>\n",
       "      <td>1</td>\n",
       "    </tr>\n",
       "    <tr>\n",
       "      <th>647423</th>\n",
       "      <td>0</td>\n",
       "    </tr>\n",
       "    <tr>\n",
       "      <th>775583</th>\n",
       "      <td>1</td>\n",
       "    </tr>\n",
       "    <tr>\n",
       "      <th>469178</th>\n",
       "      <td>0</td>\n",
       "    </tr>\n",
       "    <tr>\n",
       "      <th>247583</th>\n",
       "      <td>0</td>\n",
       "    </tr>\n",
       "    <tr>\n",
       "      <th>...</th>\n",
       "      <td>...</td>\n",
       "    </tr>\n",
       "    <tr>\n",
       "      <th>568944</th>\n",
       "      <td>0</td>\n",
       "    </tr>\n",
       "    <tr>\n",
       "      <th>646154</th>\n",
       "      <td>0</td>\n",
       "    </tr>\n",
       "    <tr>\n",
       "      <th>694232</th>\n",
       "      <td>0</td>\n",
       "    </tr>\n",
       "    <tr>\n",
       "      <th>316641</th>\n",
       "      <td>0</td>\n",
       "    </tr>\n",
       "    <tr>\n",
       "      <th>693182</th>\n",
       "      <td>0</td>\n",
       "    </tr>\n",
       "  </tbody>\n",
       "</table>\n",
       "<p>52135 rows × 1 columns</p>\n",
       "</div>"
      ],
      "text/plain": [
       "        label\n",
       "290896      1\n",
       "647423      0\n",
       "775583      1\n",
       "469178      0\n",
       "247583      0\n",
       "...       ...\n",
       "568944      0\n",
       "646154      0\n",
       "694232      0\n",
       "316641      0\n",
       "693182      0\n",
       "\n",
       "[52135 rows x 1 columns]"
      ]
     },
     "execution_count": 38,
     "metadata": {},
     "output_type": "execute_result"
    }
   ],
   "source": [
    "y_test.astype(int)"
   ]
  },
  {
   "cell_type": "code",
   "execution_count": 39,
   "metadata": {},
   "outputs": [
    {
     "data": {
      "text/plain": [
       "array([1, 0, 0, ..., 0, 0, 0])"
      ]
     },
     "execution_count": 39,
     "metadata": {},
     "output_type": "execute_result"
    }
   ],
   "source": [
    "model_pred[\"Logistic Regression\"]"
   ]
  },
  {
   "cell_type": "code",
   "execution_count": 40,
   "metadata": {},
   "outputs": [
    {
     "data": {
      "text/html": [
       "<div>\n",
       "<style scoped>\n",
       "    .dataframe tbody tr th:only-of-type {\n",
       "        vertical-align: middle;\n",
       "    }\n",
       "\n",
       "    .dataframe tbody tr th {\n",
       "        vertical-align: top;\n",
       "    }\n",
       "\n",
       "    .dataframe thead th {\n",
       "        text-align: right;\n",
       "    }\n",
       "</style>\n",
       "<table border=\"1\" class=\"dataframe\">\n",
       "  <thead>\n",
       "    <tr style=\"text-align: right;\">\n",
       "      <th></th>\n",
       "      <th>label</th>\n",
       "    </tr>\n",
       "  </thead>\n",
       "  <tbody>\n",
       "    <tr>\n",
       "      <th>290896</th>\n",
       "      <td>1</td>\n",
       "    </tr>\n",
       "    <tr>\n",
       "      <th>647423</th>\n",
       "      <td>0</td>\n",
       "    </tr>\n",
       "    <tr>\n",
       "      <th>775583</th>\n",
       "      <td>0</td>\n",
       "    </tr>\n",
       "    <tr>\n",
       "      <th>469178</th>\n",
       "      <td>0</td>\n",
       "    </tr>\n",
       "    <tr>\n",
       "      <th>247583</th>\n",
       "      <td>0</td>\n",
       "    </tr>\n",
       "    <tr>\n",
       "      <th>...</th>\n",
       "      <td>...</td>\n",
       "    </tr>\n",
       "    <tr>\n",
       "      <th>568944</th>\n",
       "      <td>0</td>\n",
       "    </tr>\n",
       "    <tr>\n",
       "      <th>646154</th>\n",
       "      <td>0</td>\n",
       "    </tr>\n",
       "    <tr>\n",
       "      <th>694232</th>\n",
       "      <td>0</td>\n",
       "    </tr>\n",
       "    <tr>\n",
       "      <th>316641</th>\n",
       "      <td>0</td>\n",
       "    </tr>\n",
       "    <tr>\n",
       "      <th>693182</th>\n",
       "      <td>0</td>\n",
       "    </tr>\n",
       "  </tbody>\n",
       "</table>\n",
       "<p>52135 rows × 1 columns</p>\n",
       "</div>"
      ],
      "text/plain": [
       "        label\n",
       "290896      1\n",
       "647423      0\n",
       "775583      0\n",
       "469178      0\n",
       "247583      0\n",
       "...       ...\n",
       "568944      0\n",
       "646154      0\n",
       "694232      0\n",
       "316641      0\n",
       "693182      0\n",
       "\n",
       "[52135 rows x 1 columns]"
      ]
     },
     "execution_count": 40,
     "metadata": {},
     "output_type": "execute_result"
    }
   ],
   "source": [
    "pd.DataFrame(model_pred[\"Logistic Regression\"], index=y_test.index, columns=y_test.columns)"
   ]
  },
  {
   "cell_type": "code",
   "execution_count": 41,
   "metadata": {},
   "outputs": [],
   "source": [
    "def verify_success_rate_above(y_true, y_pred, min_success_rate=0.1):\n",
    "    \"\"\"\n",
    "    Verifies the success rate on a test set is above a provided minimum\n",
    "    \n",
    "    \n",
    "    \"\"\"\n",
    "    \n",
    "    precision = precision_score(y_true, y_pred, pos_label=True)\n",
    "    is_satisfied = (precision >= min_success_rate)\n",
    "    \n",
    "    return is_satisfied, precision"
   ]
  },
  {
   "cell_type": "code",
   "execution_count": 42,
   "metadata": {},
   "outputs": [],
   "source": [
    "def verify_across_stations(X_test, y_true, y_pred, max_diff=0.1, min_success_rate=0.1):\n",
    "    \"\"\"\n",
    "    Verifies that no station has discrimination in sensitive_column\n",
    "    \n",
    "    \n",
    "    \"\"\"\n",
    "    \n",
    "    departments = X_test['station'].unique()\n",
    "\n",
    "    is_satisfied = True\n",
    "    problematic_departments = []\n",
    "    good_deparments = []\n",
    "    precisions = []\n",
    "    for department in departments:\n",
    "        mask = (X_test['station'] == department)\n",
    "        if mask.sum():\n",
    "            station_precision = precision_score(y_true[mask], y_pred[mask], pos_label=1, zero_division=0)\n",
    "            precisions.append(station_precision)\n",
    "\n",
    "        if station_precision < min_success_rate:\n",
    "            problematic_departments.append((department, station_precision))\n",
    "        else:\n",
    "            good_deparments.append((department, station_precision))\n",
    "\n",
    "    diff = np.max(precisions) - np.min(precisions)\n",
    "    if diff > max_diff:\n",
    "            is_satisfied = False\n",
    "\n",
    "    return is_satisfied, diff, problematic_departments, good_deparments"
   ]
  },
  {
   "cell_type": "code",
   "execution_count": 45,
   "metadata": {},
   "outputs": [
    {
     "name": "stdout",
     "output_type": "stream",
     "text": [
      "\n",
      "\n",
      "Logistic Regression\n",
      "True 0.7254901960784313\n",
      "\n",
      "Gender\n",
      "Requirement failed 😢\n",
      "Num problematic departments: 3\n",
      "Num good departments: 18\n",
      "avg diff: 0.10745444102104677\n",
      "\n",
      "Ethnicity\n",
      "Requirement failed 😢\n",
      "Num problematic departments: 6\n",
      "Num good departments: 15\n",
      "avg diff: 0.34563279054349066\n",
      "Departments analysed: 21\n",
      "\n",
      "Across stations is satisfied: False\n",
      "Across stations is diff: 0.8571428571428571\n",
      "Across stations problematic departments: [('essex', 0.0), ('kent', 0.0), ('west-yorkshire', 0.0), ('south-yorkshire', 0.0), ('northamptonshire', 0.0), ('surrey', 0.0), ('norfolk', 0.0), ('cumbria', 0.0), ('west-mercia', 0.0), ('gloucestershire', 0.0), ('sussex', 0.0), ('warwickshire', 0.0), ('suffolk', 0.0), ('derbyshire', 0.0)]\n",
      "Recall score:  0.3215852005422215\n",
      "---------------------------------------------------------------------------------------------------------------------------------------------\n",
      "\n",
      "\n",
      "Decision Tree\n",
      "True 0.7619441571871768\n",
      "\n",
      "Gender\n",
      "Requirement failed 😢\n",
      "Num problematic departments: 13\n",
      "Num good departments: 8\n",
      "avg diff: 0.30045051157105485\n",
      "\n",
      "Ethnicity\n",
      "Requirement failed 😢\n",
      "Num problematic departments: 17\n",
      "Num good departments: 4\n",
      "avg diff: 0.40014940461014614\n",
      "Departments analysed: 21\n",
      "\n",
      "Across stations is satisfied: False\n",
      "Across stations is diff: 0.8524590163934426\n",
      "Across stations problematic departments: [('west-yorkshire', 0.0), ('derbyshire', 0.0)]\n",
      "Recall score:  0.29375647874970096\n",
      "---------------------------------------------------------------------------------------------------------------------------------------------\n",
      "\n",
      "\n",
      "Random Forest\n",
      "True 0.75793327908869\n",
      "\n",
      "Gender\n",
      "Requirement failed 😢\n",
      "Num problematic departments: 14\n",
      "Num good departments: 7\n",
      "avg diff: 0.3079153511484338\n",
      "\n",
      "Ethnicity\n",
      "Requirement failed 😢\n",
      "Num problematic departments: 17\n",
      "Num good departments: 4\n",
      "avg diff: 0.3845262328864611\n",
      "Departments analysed: 21\n",
      "\n",
      "Across stations is satisfied: False\n",
      "Across stations is diff: 0.8577981651376146\n",
      "Across stations problematic departments: [('derbyshire', 0.0)]\n",
      "Recall score:  0.29710549397974645\n",
      "---------------------------------------------------------------------------------------------------------------------------------------------\n",
      "\n",
      "\n",
      "AdaBoost\n",
      "True 0.7241996065104632\n",
      "\n",
      "Gender\n",
      "Requirement failed 😢\n",
      "Num problematic departments: 4\n",
      "Num good departments: 17\n",
      "avg diff: 0.3313224518381469\n",
      "\n",
      "Ethnicity\n",
      "Requirement failed 😢\n",
      "Num problematic departments: 6\n",
      "Num good departments: 15\n",
      "avg diff: 0.43172218742425444\n",
      "Departments analysed: 21\n",
      "\n",
      "Across stations is satisfied: False\n",
      "Across stations is diff: 1.0\n",
      "Across stations problematic departments: [('essex', 0.0), ('kent', 0.0), ('west-yorkshire', 0.0), ('south-yorkshire', 0.0), ('northamptonshire', 0.0), ('surrey', 0.0), ('norfolk', 0.0), ('cumbria', 0.0), ('west-mercia', 0.0), ('gloucestershire', 0.0), ('sussex', 0.0), ('warwickshire', 0.0), ('derbyshire', 0.0)]\n",
      "Recall score:  0.3228610158679531\n",
      "---------------------------------------------------------------------------------------------------------------------------------------------\n"
     ]
    }
   ],
   "source": [
    "for model_predictions in model_pred:\n",
    "    print(\"\\n\")\n",
    "    print(model_predictions)\n",
    "    is_verified, success_rate = verify_success_rate_above(y_test.astype(int), pd.DataFrame(model_pred[model_predictions], index=y_test.index, columns=y_test.columns))\n",
    "\n",
    "    print(is_verified, success_rate)\n",
    "    print(\"\\nGender\")\n",
    "    is_satisfied, problematic_departments, good_deparments = verify_no_discrimination(X_test, y_test.astype(int), pd.DataFrame(model_pred[model_predictions], index=y_test.index, columns=y_test.columns), sensitive_column='Gender', max_diff=0.05)\n",
    "\n",
    "    if not is_satisfied:\n",
    "        print(\"Requirement failed 😢\")\n",
    "        print(\"Num problematic departments: {}\".format(len(problematic_departments)))\n",
    "        print(\"Num good departments: {}\".format(len(good_deparments)))\n",
    "\n",
    "        print(\"avg diff:\", np.mean([p[1] for p in problematic_departments]))\n",
    "            \n",
    "            \n",
    "    print(\"\\nEthnicity\")\n",
    "\n",
    "    is_satisfied, problematic_departments, good_deparments = verify_no_discrimination(X_test, y_test.astype(int), pd.DataFrame(model_pred[model_predictions], index=y_test.index, columns=y_test.columns), sensitive_column='Officer-defined ethnicity', max_diff=0.05)\n",
    "\n",
    "    if not is_satisfied:\n",
    "        print(\"Requirement failed 😢\")\n",
    "        print(\"Num problematic departments: {}\".format(len(problematic_departments)))\n",
    "        print(\"Num good departments: {}\".format(len(good_deparments)))\n",
    "\n",
    "        print(\"avg diff:\", np.mean([p[1] for p in problematic_departments]))\n",
    "    else:\n",
    "        print(\"Requirement satisfied! 🚀\")\n",
    "\n",
    "    print(\"Departments analysed: {}\".format(len(problematic_departments) + len(good_deparments)))\n",
    "\n",
    "    across_stations_is_satisfied, across_stations_diff, across_stations_problematic_departments, across_stations_good_deparments = verify_across_stations(X_test, y_test.astype(int), pd.DataFrame(model_pred[model_predictions], index=y_test.index, columns=y_test.columns))\n",
    "\n",
    "    print(f\"\\nAcross stations is satisfied: {across_stations_is_satisfied}\")\n",
    "    print(f\"Across stations is diff: {across_stations_diff}\")\n",
    "    print(f\"Across stations problematic departments: {across_stations_problematic_departments}\")    \n",
    "\n",
    "\n",
    "    print(\"Recall score: \", recall_score(y_test.astype(int), pd.DataFrame(model_pred[model_predictions], index=y_test.index, columns=y_test.columns)))\n",
    "    print(\"---------------------------------------------------------------------------------------------------------------------------------------------\")"
   ]
  },
  {
   "cell_type": "code",
   "execution_count": 59,
   "metadata": {},
   "outputs": [
    {
     "data": {
      "text/plain": [
       "{'Logistic Regression': Pipeline(steps=[('column_selector',\n",
       "                  ColumnTransformer(transformers=[('selector', 'passthrough',\n",
       "                                                   ['Type', 'Gender',\n",
       "                                                    'Age range',\n",
       "                                                    'Officer-defined ethnicity',\n",
       "                                                    'Object of search',\n",
       "                                                    'station'])])),\n",
       "                 ('onehot', OneHotEncoder(handle_unknown='ignore')),\n",
       "                 ('classifier', LogisticRegression())]),\n",
       " 'Decision Tree': Pipeline(steps=[('column_selector',\n",
       "                  ColumnTransformer(transformers=[('selector', 'passthrough',\n",
       "                                                   ['Type', 'Gender',\n",
       "                                                    'Age range',\n",
       "                                                    'Officer-defined ethnicity',\n",
       "                                                    'Object of search',\n",
       "                                                    'station'])])),\n",
       "                 ('onehot', OneHotEncoder(handle_unknown='ignore')),\n",
       "                 ('classifier', DecisionTreeClassifier())]),\n",
       " 'Random Forest': Pipeline(steps=[('column_selector',\n",
       "                  ColumnTransformer(transformers=[('selector', 'passthrough',\n",
       "                                                   ['Type', 'Gender',\n",
       "                                                    'Age range',\n",
       "                                                    'Officer-defined ethnicity',\n",
       "                                                    'Object of search',\n",
       "                                                    'station'])])),\n",
       "                 ('onehot', OneHotEncoder(handle_unknown='ignore')),\n",
       "                 ('classifier', RandomForestClassifier())]),\n",
       " 'AdaBoost': Pipeline(steps=[('column_selector',\n",
       "                  ColumnTransformer(transformers=[('selector', 'passthrough',\n",
       "                                                   ['Type', 'Gender',\n",
       "                                                    'Age range',\n",
       "                                                    'Officer-defined ethnicity',\n",
       "                                                    'Object of search',\n",
       "                                                    'station'])])),\n",
       "                 ('onehot', OneHotEncoder(handle_unknown='ignore')),\n",
       "                 ('classifier', AdaBoostClassifier())])}"
      ]
     },
     "execution_count": 59,
     "metadata": {},
     "output_type": "execute_result"
    }
   ],
   "source": [
    "model_pipe"
   ]
  },
  {
   "cell_type": "code",
   "execution_count": 60,
   "metadata": {},
   "outputs": [],
   "source": [
    "best_model = model_pipe[\"Logistic Regression\"]"
   ]
  },
  {
   "cell_type": "code",
   "execution_count": 63,
   "metadata": {},
   "outputs": [
    {
     "name": "stderr",
     "output_type": "stream",
     "text": [
      "/home/jrr/.virtualenvs/capstone/lib/python3.8/site-packages/sklearn/linear_model/_logistic.py:763: ConvergenceWarning: lbfgs failed to converge (status=1):\n",
      "STOP: TOTAL NO. of ITERATIONS REACHED LIMIT.\n",
      "\n",
      "Increase the number of iterations (max_iter) or scale the data as shown in:\n",
      "    https://scikit-learn.org/stable/modules/preprocessing.html\n",
      "Please also refer to the documentation for alternative solver options:\n",
      "    https://scikit-learn.org/stable/modules/linear_model.html#logistic-regression\n",
      "  n_iter_i = _check_optimize_result(\n"
     ]
    },
    {
     "data": {
      "text/plain": [
       "Pipeline(steps=[('column_selector',\n",
       "                 ColumnTransformer(transformers=[('selector', 'passthrough',\n",
       "                                                  ['Type', 'Gender',\n",
       "                                                   'Age range',\n",
       "                                                   'Officer-defined ethnicity',\n",
       "                                                   'Object of search',\n",
       "                                                   'station'])])),\n",
       "                ('onehot', OneHotEncoder(handle_unknown='ignore')),\n",
       "                ('classifier', LogisticRegression())])"
      ]
     },
     "execution_count": 63,
     "metadata": {},
     "output_type": "execute_result"
    }
   ],
   "source": [
    "best_model.fit(df_clean[[\n",
    "    'observation_id',\n",
    "    'Type',\n",
    "    'Date',\n",
    "    'Part of a policing operation',\n",
    "    'Latitude',\n",
    "    'Longitude',\n",
    "    'Gender',\n",
    "    'Age range',\n",
    "    'Officer-defined ethnicity',\n",
    "    'Legislation',\n",
    "    'Object of search',\n",
    "    'station',\n",
    "]], df_clean[\"label\"].astype(int))"
   ]
  },
  {
   "cell_type": "code",
   "execution_count": null,
   "metadata": {},
   "outputs": [],
   "source": []
  },
  {
   "cell_type": "code",
   "execution_count": 23,
   "metadata": {},
   "outputs": [],
   "source": [
    "from sklearn.impute import SimpleImputer\n",
    "from sklearn.pipeline import Pipeline\n",
    "from sklearn.preprocessing import OneHotEncoder\n",
    "from sklearn.ensemble import RandomForestRegressor\n",
    "from sklearn.ensemble import RandomForestClassifier\n",
    "from sklearn.compose import ColumnTransformer\n",
    "\n",
    "\n",
    "\n",
    "pipeline = Pipeline(steps=[\n",
    "    ('column_selector', ColumnTransformer([(\"selector\", \"passthrough\", selected_columns)], remainder=\"drop\")),\n",
    "    ('onehot', OneHotEncoder(handle_unknown='ignore')),\n",
    "    ('model', RandomForestClassifier(n_estimators=100, random_state=42))\n",
    "    ])          "
   ]
  },
  {
   "cell_type": "code",
   "execution_count": 24,
   "metadata": {},
   "outputs": [
    {
     "name": "stdout",
     "output_type": "stream",
     "text": [
      "<class 'pandas.core.frame.DataFrame'>\n",
      "Int64Index: 646620 entries, 940 to 854517\n",
      "Data columns (total 12 columns):\n",
      " #   Column                        Non-Null Count   Dtype  \n",
      "---  ------                        --------------   -----  \n",
      " 0   observation_id                646620 non-null  object \n",
      " 1   Type                          646620 non-null  object \n",
      " 2   Date                          646620 non-null  object \n",
      " 3   Part of a policing operation  646620 non-null  object \n",
      " 4   Latitude                      527277 non-null  float64\n",
      " 5   Longitude                     527277 non-null  float64\n",
      " 6   Gender                        646620 non-null  object \n",
      " 7   Age range                     646620 non-null  object \n",
      " 8   Officer-defined ethnicity     646620 non-null  object \n",
      " 9   Legislation                   608719 non-null  object \n",
      " 10  Object of search              646620 non-null  object \n",
      " 11  station                       646620 non-null  object \n",
      "dtypes: float64(2), object(10)\n",
      "memory usage: 64.1+ MB\n"
     ]
    }
   ],
   "source": [
    "X.info()"
   ]
  },
  {
   "cell_type": "code",
   "execution_count": 25,
   "metadata": {},
   "outputs": [
    {
     "name": "stdout",
     "output_type": "stream",
     "text": [
      "<class 'pandas.core.frame.DataFrame'>\n",
      "Int64Index: 646620 entries, 940 to 854517\n",
      "Data columns (total 1 columns):\n",
      " #   Column  Non-Null Count   Dtype\n",
      "---  ------  --------------   -----\n",
      " 0   label   646620 non-null  bool \n",
      "dtypes: bool(1)\n",
      "memory usage: 5.5 MB\n"
     ]
    }
   ],
   "source": [
    "y.info()"
   ]
  },
  {
   "cell_type": "code",
   "execution_count": 26,
   "metadata": {},
   "outputs": [
    {
     "data": {
      "text/plain": [
       "Pipeline(steps=[('column_selector',\n",
       "                 ColumnTransformer(transformers=[('selector', 'passthrough',\n",
       "                                                  ['Type', 'Gender',\n",
       "                                                   'Age range',\n",
       "                                                   'Officer-defined ethnicity',\n",
       "                                                   'Object of search',\n",
       "                                                   'station'])])),\n",
       "                ('onehot', OneHotEncoder(handle_unknown='ignore')),\n",
       "                ('model', RandomForestClassifier(random_state=42))])"
      ]
     },
     "execution_count": 26,
     "metadata": {},
     "output_type": "execute_result"
    }
   ],
   "source": [
    "pipeline"
   ]
  },
  {
   "cell_type": "code",
   "execution_count": 27,
   "metadata": {},
   "outputs": [
    {
     "name": "stderr",
     "output_type": "stream",
     "text": [
      "/home/xjrr/.virtualenvs/capstone/lib/python3.8/site-packages/sklearn/pipeline.py:346: DataConversionWarning: A column-vector y was passed when a 1d array was expected. Please change the shape of y to (n_samples,), for example using ravel().\n",
      "  self._final_estimator.fit(Xt, y, **fit_params_last_step)\n"
     ]
    },
    {
     "data": {
      "text/plain": [
       "Pipeline(steps=[('column_selector',\n",
       "                 ColumnTransformer(transformers=[('selector', 'passthrough',\n",
       "                                                  ['Type', 'Gender',\n",
       "                                                   'Age range',\n",
       "                                                   'Officer-defined ethnicity',\n",
       "                                                   'Object of search',\n",
       "                                                   'station'])])),\n",
       "                ('onehot', OneHotEncoder(handle_unknown='ignore')),\n",
       "                ('model', RandomForestClassifier(random_state=42))])"
      ]
     },
     "execution_count": 27,
     "metadata": {},
     "output_type": "execute_result"
    }
   ],
   "source": [
    "pipeline.fit(X,y.astype('int'))"
   ]
  },
  {
   "cell_type": "code",
   "execution_count": 28,
   "metadata": {},
   "outputs": [
    {
     "data": {
      "text/plain": [
       "'/home/xjrr/ldsa-capstone-project'"
      ]
     },
     "execution_count": 28,
     "metadata": {},
     "output_type": "execute_result"
    }
   ],
   "source": [
    "os.getcwd()"
   ]
  },
  {
   "cell_type": "code",
   "execution_count": 29,
   "metadata": {},
   "outputs": [],
   "source": [
    "TMP_DIR = 'save-model-forest-2'"
   ]
  },
  {
   "cell_type": "code",
   "execution_count": 30,
   "metadata": {},
   "outputs": [],
   "source": [
    "if not os.path.exists(TMP_DIR):\n",
    "   # Create a new directory because it does not exist\n",
    "   os.makedirs(TMP_DIR)"
   ]
  },
  {
   "cell_type": "code",
   "execution_count": 31,
   "metadata": {},
   "outputs": [],
   "source": [
    "with open(os.path.join(os.getcwd(), TMP_DIR, 'columns.json'), 'w') as file_save:\n",
    "    json.dump(X.columns.tolist(), file_save)\n",
    "    \n",
    "# pipeline\n",
    "\n",
    "joblib.dump(pipeline, os.path.join(os.getcwd(), TMP_DIR, 'pipeline.pickle'))\n",
    "\n",
    "# dtypes\n",
    "\n",
    "with open(os.path.join(os.getcwd(), TMP_DIR, 'dtypes.pickle'), 'wb') as file_save:\n",
    "    pickle.dump(X.dtypes, file_save)"
   ]
  },
  {
   "cell_type": "code",
   "execution_count": 64,
   "metadata": {},
   "outputs": [
    {
     "data": {
      "text/plain": [
       "['/home/jrr/ldsa-capstone-project/save-LR/pipeline.pickle']"
      ]
     },
     "execution_count": 64,
     "metadata": {},
     "output_type": "execute_result"
    }
   ],
   "source": [
    "TMP_DIR = 'save-LR'\n",
    "if not os.path.exists(TMP_DIR):\n",
    "   # Create a new directory because it does not exist\n",
    "   os.makedirs(TMP_DIR)\n",
    "\n",
    "joblib.dump(best_model, os.path.join(os.getcwd(), TMP_DIR, 'pipeline.pickle'))\n"
   ]
  },
  {
   "cell_type": "code",
   "execution_count": null,
   "metadata": {},
   "outputs": [],
   "source": []
  }
 ],
 "metadata": {
  "kernelspec": {
   "display_name": "capstone",
   "language": "python",
   "name": "python3"
  },
  "language_info": {
   "codemirror_mode": {
    "name": "ipython",
    "version": 3
   },
   "file_extension": ".py",
   "mimetype": "text/x-python",
   "name": "python",
   "nbconvert_exporter": "python",
   "pygments_lexer": "ipython3",
   "version": "3.8.16"
  },
  "orig_nbformat": 4
 },
 "nbformat": 4,
 "nbformat_minor": 2
}
