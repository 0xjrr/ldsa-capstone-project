{
 "cells": [
  {
   "cell_type": "code",
   "execution_count": 1,
   "metadata": {},
   "outputs": [],
   "source": [
    "import pandas as pd\n",
    "from sklearn.tree import DecisionTreeClassifier\n",
    "from sklearn.model_selection import train_test_split\n",
    "from sklearn.metrics import accuracy_score\n",
    "from sklearn.metrics import confusion_matrix\n",
    "from sklearn.metrics import classification_report\n",
    "from sklearn.metrics import precision_score\n",
    "from sklearn.metrics import recall_score\n",
    "from sklearn.metrics import f1_score\n",
    "from sklearn.metrics import cohen_kappa_score\n",
    "from sklearn.metrics import roc_auc_score\n",
    "from sklearn.metrics import roc_curve\n",
    "from sklearn.metrics import auc\n",
    "import matplotlib.pyplot as plt\n",
    "import seaborn as sns\n",
    "from sklearn.pipeline import Pipeline\n",
    "import os\n",
    "import pickle\n",
    "import json\n",
    "import joblib\n",
    "import numpy as np"
   ]
  },
  {
   "cell_type": "code",
   "execution_count": 2,
   "metadata": {},
   "outputs": [],
   "source": [
    "positive_outcome_labels = [\n",
    "    'Community resolution',\n",
    "    'Khat or Cannabis warning',\n",
    "    'Caution (simple or conditional)',\n",
    "    'Arrest',\n",
    "    'Penalty Notice for Disorder',\n",
    "    'Summons / charged by post',\n",
    "    'Suspect arrested',\n",
    "    'Suspect summoned to court',\n",
    "]\n"
   ]
  },
  {
   "cell_type": "code",
   "execution_count": 3,
   "metadata": {},
   "outputs": [],
   "source": [
    "df = pd.read_csv('data/train.csv')"
   ]
  },
  {
   "cell_type": "code",
   "execution_count": 4,
   "metadata": {},
   "outputs": [],
   "source": [
    "# df['Outcome linked to object of search'] = df['Outcome linked to object of search'].fillna(False)"
   ]
  },
  {
   "cell_type": "code",
   "execution_count": 5,
   "metadata": {},
   "outputs": [],
   "source": [
    "df['positive_outcome'] = df['Outcome'].apply(lambda x: True if x in positive_outcome_labels else False)"
   ]
  },
  {
   "cell_type": "code",
   "execution_count": 6,
   "metadata": {},
   "outputs": [
    {
     "name": "stdout",
     "output_type": "stream",
     "text": [
      "<class 'pandas.core.frame.DataFrame'>\n",
      "RangeIndex: 856610 entries, 0 to 856609\n",
      "Data columns (total 17 columns):\n",
      " #   Column                                    Non-Null Count   Dtype  \n",
      "---  ------                                    --------------   -----  \n",
      " 0   observation_id                            856610 non-null  object \n",
      " 1   Type                                      856610 non-null  object \n",
      " 2   Date                                      856610 non-null  object \n",
      " 3   Part of a policing operation              646620 non-null  object \n",
      " 4   Latitude                                  700308 non-null  float64\n",
      " 5   Longitude                                 700308 non-null  float64\n",
      " 6   Gender                                    856610 non-null  object \n",
      " 7   Age range                                 856610 non-null  object \n",
      " 8   Self-defined ethnicity                    841427 non-null  object \n",
      " 9   Officer-defined ethnicity                 856610 non-null  object \n",
      " 10  Legislation                               816863 non-null  object \n",
      " 11  Object of search                          856610 non-null  object \n",
      " 12  Outcome                                   856610 non-null  object \n",
      " 13  Outcome linked to object of search        254683 non-null  object \n",
      " 14  Removal of more than just outer clothing  340097 non-null  object \n",
      " 15  station                                   856610 non-null  object \n",
      " 16  positive_outcome                          856610 non-null  bool   \n",
      "dtypes: bool(1), float64(2), object(14)\n",
      "memory usage: 105.4+ MB\n"
     ]
    }
   ],
   "source": [
    "df.info()"
   ]
  },
  {
   "cell_type": "code",
   "execution_count": 7,
   "metadata": {},
   "outputs": [
    {
     "data": {
      "text/plain": [
       "positive_outcome  Outcome linked to object of search\n",
       "False             False                                 110662\n",
       "                  True                                   45153\n",
       "True              False                                  28461\n",
       "                  True                                   70407\n",
       "dtype: int64"
      ]
     },
     "execution_count": 7,
     "metadata": {},
     "output_type": "execute_result"
    }
   ],
   "source": [
    "df[['positive_outcome', 'Outcome linked to object of search', ]].value_counts().sort_index()"
   ]
  },
  {
   "cell_type": "code",
   "execution_count": 8,
   "metadata": {},
   "outputs": [],
   "source": [
    "df['label'] = df[['positive_outcome', 'Outcome linked to object of search', ]].apply(lambda x: x['positive_outcome'] and x['Outcome linked to object of search'], axis=1)\n"
   ]
  },
  {
   "cell_type": "code",
   "execution_count": 9,
   "metadata": {},
   "outputs": [
    {
     "data": {
      "text/html": [
       "<div>\n",
       "<style scoped>\n",
       "    .dataframe tbody tr th:only-of-type {\n",
       "        vertical-align: middle;\n",
       "    }\n",
       "\n",
       "    .dataframe tbody tr th {\n",
       "        vertical-align: top;\n",
       "    }\n",
       "\n",
       "    .dataframe thead th {\n",
       "        text-align: right;\n",
       "    }\n",
       "</style>\n",
       "<table border=\"1\" class=\"dataframe\">\n",
       "  <thead>\n",
       "    <tr style=\"text-align: right;\">\n",
       "      <th></th>\n",
       "      <th>observation_id</th>\n",
       "      <th>Type</th>\n",
       "      <th>Date</th>\n",
       "      <th>Part of a policing operation</th>\n",
       "      <th>Latitude</th>\n",
       "      <th>Longitude</th>\n",
       "      <th>Gender</th>\n",
       "      <th>Age range</th>\n",
       "      <th>Self-defined ethnicity</th>\n",
       "      <th>Officer-defined ethnicity</th>\n",
       "      <th>Legislation</th>\n",
       "      <th>Object of search</th>\n",
       "      <th>Outcome</th>\n",
       "      <th>Outcome linked to object of search</th>\n",
       "      <th>Removal of more than just outer clothing</th>\n",
       "      <th>station</th>\n",
       "      <th>positive_outcome</th>\n",
       "      <th>label</th>\n",
       "    </tr>\n",
       "  </thead>\n",
       "  <tbody>\n",
       "    <tr>\n",
       "      <th>0</th>\n",
       "      <td>2e4d0094-c30b-471b-a211-72a9790feca2</td>\n",
       "      <td>Person search</td>\n",
       "      <td>2020-12-01T01:10:00+00:00</td>\n",
       "      <td>NaN</td>\n",
       "      <td>50.798824</td>\n",
       "      <td>-1.089471</td>\n",
       "      <td>Male</td>\n",
       "      <td>25-34</td>\n",
       "      <td>Other ethnic group - Not stated</td>\n",
       "      <td>White</td>\n",
       "      <td>Police and Criminal Evidence Act 1984 (section 1)</td>\n",
       "      <td>Article for use in theft</td>\n",
       "      <td>Community resolution</td>\n",
       "      <td>False</td>\n",
       "      <td>False</td>\n",
       "      <td>hampshire</td>\n",
       "      <td>True</td>\n",
       "      <td>False</td>\n",
       "    </tr>\n",
       "    <tr>\n",
       "      <th>1</th>\n",
       "      <td>4779fbe8-6e05-4534-85fd-db32952ee309</td>\n",
       "      <td>Person search</td>\n",
       "      <td>2020-12-01T02:00:00+00:00</td>\n",
       "      <td>NaN</td>\n",
       "      <td>50.785099</td>\n",
       "      <td>-1.091540</td>\n",
       "      <td>Male</td>\n",
       "      <td>over 34</td>\n",
       "      <td>White - Any other White background</td>\n",
       "      <td>Other</td>\n",
       "      <td>Misuse of Drugs Act 1971 (section 23)</td>\n",
       "      <td>Controlled drugs</td>\n",
       "      <td>A no further action disposal</td>\n",
       "      <td>False</td>\n",
       "      <td>False</td>\n",
       "      <td>hampshire</td>\n",
       "      <td>False</td>\n",
       "      <td>False</td>\n",
       "    </tr>\n",
       "    <tr>\n",
       "      <th>2</th>\n",
       "      <td>cb5c685d-acac-42e2-914d-75e6ff73b0a8</td>\n",
       "      <td>Person search</td>\n",
       "      <td>2020-12-01T09:15:00+00:00</td>\n",
       "      <td>NaN</td>\n",
       "      <td>50.952006</td>\n",
       "      <td>-1.403341</td>\n",
       "      <td>Male</td>\n",
       "      <td>over 34</td>\n",
       "      <td>White - English/Welsh/Scottish/Northern Irish/...</td>\n",
       "      <td>White</td>\n",
       "      <td>Misuse of Drugs Act 1971 (section 23)</td>\n",
       "      <td>Controlled drugs</td>\n",
       "      <td>A no further action disposal</td>\n",
       "      <td>False</td>\n",
       "      <td>True</td>\n",
       "      <td>hampshire</td>\n",
       "      <td>False</td>\n",
       "      <td>False</td>\n",
       "    </tr>\n",
       "    <tr>\n",
       "      <th>3</th>\n",
       "      <td>f486e116-5b1e-45db-9931-a7f070c5c478</td>\n",
       "      <td>Person search</td>\n",
       "      <td>2020-12-01T10:20:00+00:00</td>\n",
       "      <td>NaN</td>\n",
       "      <td>50.806383</td>\n",
       "      <td>-1.079844</td>\n",
       "      <td>Male</td>\n",
       "      <td>10-17</td>\n",
       "      <td>Other ethnic group - Not stated</td>\n",
       "      <td>White</td>\n",
       "      <td>Police and Criminal Evidence Act 1984 (section 1)</td>\n",
       "      <td>Stolen goods</td>\n",
       "      <td>A no further action disposal</td>\n",
       "      <td>False</td>\n",
       "      <td>False</td>\n",
       "      <td>hampshire</td>\n",
       "      <td>False</td>\n",
       "      <td>False</td>\n",
       "    </tr>\n",
       "    <tr>\n",
       "      <th>4</th>\n",
       "      <td>78f4020e-12cc-4889-bf1a-2f2c29b2f662</td>\n",
       "      <td>Person search</td>\n",
       "      <td>2020-12-01T10:24:00+00:00</td>\n",
       "      <td>NaN</td>\n",
       "      <td>50.806670</td>\n",
       "      <td>-1.081982</td>\n",
       "      <td>Male</td>\n",
       "      <td>10-17</td>\n",
       "      <td>Other ethnic group - Not stated</td>\n",
       "      <td>Asian</td>\n",
       "      <td>Police and Criminal Evidence Act 1984 (section 1)</td>\n",
       "      <td>Offensive weapons</td>\n",
       "      <td>A no further action disposal</td>\n",
       "      <td>False</td>\n",
       "      <td>False</td>\n",
       "      <td>hampshire</td>\n",
       "      <td>False</td>\n",
       "      <td>False</td>\n",
       "    </tr>\n",
       "    <tr>\n",
       "      <th>...</th>\n",
       "      <td>...</td>\n",
       "      <td>...</td>\n",
       "      <td>...</td>\n",
       "      <td>...</td>\n",
       "      <td>...</td>\n",
       "      <td>...</td>\n",
       "      <td>...</td>\n",
       "      <td>...</td>\n",
       "      <td>...</td>\n",
       "      <td>...</td>\n",
       "      <td>...</td>\n",
       "      <td>...</td>\n",
       "      <td>...</td>\n",
       "      <td>...</td>\n",
       "      <td>...</td>\n",
       "      <td>...</td>\n",
       "      <td>...</td>\n",
       "      <td>...</td>\n",
       "    </tr>\n",
       "    <tr>\n",
       "      <th>856605</th>\n",
       "      <td>ee337b9a-12ad-45fd-8c60-49091a0f4ab8</td>\n",
       "      <td>Person and Vehicle search</td>\n",
       "      <td>2020-04-30T15:10:00+00:00</td>\n",
       "      <td>NaN</td>\n",
       "      <td>54.965502</td>\n",
       "      <td>-1.604609</td>\n",
       "      <td>Male</td>\n",
       "      <td>18-24</td>\n",
       "      <td>White - Any other White background</td>\n",
       "      <td>White</td>\n",
       "      <td>Misuse of Drugs Act 1971 (section 23)</td>\n",
       "      <td>Controlled drugs</td>\n",
       "      <td>A no further action disposal</td>\n",
       "      <td>True</td>\n",
       "      <td>False</td>\n",
       "      <td>northumbria</td>\n",
       "      <td>False</td>\n",
       "      <td>False</td>\n",
       "    </tr>\n",
       "    <tr>\n",
       "      <th>856606</th>\n",
       "      <td>5973a004-e579-4dd2-bc26-71ab5717f87a</td>\n",
       "      <td>Person and Vehicle search</td>\n",
       "      <td>2020-04-30T15:10:00+00:00</td>\n",
       "      <td>NaN</td>\n",
       "      <td>54.965502</td>\n",
       "      <td>-1.604609</td>\n",
       "      <td>Male</td>\n",
       "      <td>25-34</td>\n",
       "      <td>White - Any other White background</td>\n",
       "      <td>Other</td>\n",
       "      <td>Misuse of Drugs Act 1971 (section 23)</td>\n",
       "      <td>Controlled drugs</td>\n",
       "      <td>A no further action disposal</td>\n",
       "      <td>True</td>\n",
       "      <td>True</td>\n",
       "      <td>northumbria</td>\n",
       "      <td>False</td>\n",
       "      <td>False</td>\n",
       "    </tr>\n",
       "    <tr>\n",
       "      <th>856607</th>\n",
       "      <td>ad053a34-364e-4d24-8f5c-9734ab5fdbe0</td>\n",
       "      <td>Person and Vehicle search</td>\n",
       "      <td>2020-04-30T17:00:00+00:00</td>\n",
       "      <td>NaN</td>\n",
       "      <td>54.966266</td>\n",
       "      <td>-1.453704</td>\n",
       "      <td>Male</td>\n",
       "      <td>18-24</td>\n",
       "      <td>White - English/Welsh/Scottish/Northern Irish/...</td>\n",
       "      <td>White</td>\n",
       "      <td>Misuse of Drugs Act 1971 (section 23)</td>\n",
       "      <td>Controlled drugs</td>\n",
       "      <td>Khat or Cannabis warning</td>\n",
       "      <td>True</td>\n",
       "      <td>False</td>\n",
       "      <td>northumbria</td>\n",
       "      <td>True</td>\n",
       "      <td>True</td>\n",
       "    </tr>\n",
       "    <tr>\n",
       "      <th>856608</th>\n",
       "      <td>8736e5ec-7ca2-420b-ad56-4dd88d27fe6e</td>\n",
       "      <td>Person search</td>\n",
       "      <td>2020-04-30T17:35:00+00:00</td>\n",
       "      <td>NaN</td>\n",
       "      <td>54.971596</td>\n",
       "      <td>-1.636589</td>\n",
       "      <td>Male</td>\n",
       "      <td>25-34</td>\n",
       "      <td>White - English/Welsh/Scottish/Northern Irish/...</td>\n",
       "      <td>White</td>\n",
       "      <td>Misuse of Drugs Act 1971 (section 23)</td>\n",
       "      <td>Controlled drugs</td>\n",
       "      <td>Arrest</td>\n",
       "      <td>True</td>\n",
       "      <td>False</td>\n",
       "      <td>northumbria</td>\n",
       "      <td>True</td>\n",
       "      <td>True</td>\n",
       "    </tr>\n",
       "    <tr>\n",
       "      <th>856609</th>\n",
       "      <td>a697ebdf-0ff2-4d6e-8c0e-1e6285858301</td>\n",
       "      <td>Person search</td>\n",
       "      <td>2020-04-30T17:36:00+00:00</td>\n",
       "      <td>NaN</td>\n",
       "      <td>54.972352</td>\n",
       "      <td>-1.637175</td>\n",
       "      <td>Male</td>\n",
       "      <td>18-24</td>\n",
       "      <td>White - English/Welsh/Scottish/Northern Irish/...</td>\n",
       "      <td>White</td>\n",
       "      <td>Misuse of Drugs Act 1971 (section 23)</td>\n",
       "      <td>Controlled drugs</td>\n",
       "      <td>Arrest</td>\n",
       "      <td>True</td>\n",
       "      <td>False</td>\n",
       "      <td>northumbria</td>\n",
       "      <td>True</td>\n",
       "      <td>True</td>\n",
       "    </tr>\n",
       "  </tbody>\n",
       "</table>\n",
       "<p>856610 rows × 18 columns</p>\n",
       "</div>"
      ],
      "text/plain": [
       "                              observation_id                       Type  \\\n",
       "0       2e4d0094-c30b-471b-a211-72a9790feca2              Person search   \n",
       "1       4779fbe8-6e05-4534-85fd-db32952ee309              Person search   \n",
       "2       cb5c685d-acac-42e2-914d-75e6ff73b0a8              Person search   \n",
       "3       f486e116-5b1e-45db-9931-a7f070c5c478              Person search   \n",
       "4       78f4020e-12cc-4889-bf1a-2f2c29b2f662              Person search   \n",
       "...                                      ...                        ...   \n",
       "856605  ee337b9a-12ad-45fd-8c60-49091a0f4ab8  Person and Vehicle search   \n",
       "856606  5973a004-e579-4dd2-bc26-71ab5717f87a  Person and Vehicle search   \n",
       "856607  ad053a34-364e-4d24-8f5c-9734ab5fdbe0  Person and Vehicle search   \n",
       "856608  8736e5ec-7ca2-420b-ad56-4dd88d27fe6e              Person search   \n",
       "856609  a697ebdf-0ff2-4d6e-8c0e-1e6285858301              Person search   \n",
       "\n",
       "                             Date Part of a policing operation   Latitude  \\\n",
       "0       2020-12-01T01:10:00+00:00                          NaN  50.798824   \n",
       "1       2020-12-01T02:00:00+00:00                          NaN  50.785099   \n",
       "2       2020-12-01T09:15:00+00:00                          NaN  50.952006   \n",
       "3       2020-12-01T10:20:00+00:00                          NaN  50.806383   \n",
       "4       2020-12-01T10:24:00+00:00                          NaN  50.806670   \n",
       "...                           ...                          ...        ...   \n",
       "856605  2020-04-30T15:10:00+00:00                          NaN  54.965502   \n",
       "856606  2020-04-30T15:10:00+00:00                          NaN  54.965502   \n",
       "856607  2020-04-30T17:00:00+00:00                          NaN  54.966266   \n",
       "856608  2020-04-30T17:35:00+00:00                          NaN  54.971596   \n",
       "856609  2020-04-30T17:36:00+00:00                          NaN  54.972352   \n",
       "\n",
       "        Longitude Gender Age range  \\\n",
       "0       -1.089471   Male     25-34   \n",
       "1       -1.091540   Male   over 34   \n",
       "2       -1.403341   Male   over 34   \n",
       "3       -1.079844   Male     10-17   \n",
       "4       -1.081982   Male     10-17   \n",
       "...           ...    ...       ...   \n",
       "856605  -1.604609   Male     18-24   \n",
       "856606  -1.604609   Male     25-34   \n",
       "856607  -1.453704   Male     18-24   \n",
       "856608  -1.636589   Male     25-34   \n",
       "856609  -1.637175   Male     18-24   \n",
       "\n",
       "                                   Self-defined ethnicity  \\\n",
       "0                         Other ethnic group - Not stated   \n",
       "1                      White - Any other White background   \n",
       "2       White - English/Welsh/Scottish/Northern Irish/...   \n",
       "3                         Other ethnic group - Not stated   \n",
       "4                         Other ethnic group - Not stated   \n",
       "...                                                   ...   \n",
       "856605                 White - Any other White background   \n",
       "856606                 White - Any other White background   \n",
       "856607  White - English/Welsh/Scottish/Northern Irish/...   \n",
       "856608  White - English/Welsh/Scottish/Northern Irish/...   \n",
       "856609  White - English/Welsh/Scottish/Northern Irish/...   \n",
       "\n",
       "       Officer-defined ethnicity  \\\n",
       "0                          White   \n",
       "1                          Other   \n",
       "2                          White   \n",
       "3                          White   \n",
       "4                          Asian   \n",
       "...                          ...   \n",
       "856605                     White   \n",
       "856606                     Other   \n",
       "856607                     White   \n",
       "856608                     White   \n",
       "856609                     White   \n",
       "\n",
       "                                              Legislation  \\\n",
       "0       Police and Criminal Evidence Act 1984 (section 1)   \n",
       "1                   Misuse of Drugs Act 1971 (section 23)   \n",
       "2                   Misuse of Drugs Act 1971 (section 23)   \n",
       "3       Police and Criminal Evidence Act 1984 (section 1)   \n",
       "4       Police and Criminal Evidence Act 1984 (section 1)   \n",
       "...                                                   ...   \n",
       "856605              Misuse of Drugs Act 1971 (section 23)   \n",
       "856606              Misuse of Drugs Act 1971 (section 23)   \n",
       "856607              Misuse of Drugs Act 1971 (section 23)   \n",
       "856608              Misuse of Drugs Act 1971 (section 23)   \n",
       "856609              Misuse of Drugs Act 1971 (section 23)   \n",
       "\n",
       "                Object of search                       Outcome  \\\n",
       "0       Article for use in theft          Community resolution   \n",
       "1               Controlled drugs  A no further action disposal   \n",
       "2               Controlled drugs  A no further action disposal   \n",
       "3                   Stolen goods  A no further action disposal   \n",
       "4              Offensive weapons  A no further action disposal   \n",
       "...                          ...                           ...   \n",
       "856605          Controlled drugs  A no further action disposal   \n",
       "856606          Controlled drugs  A no further action disposal   \n",
       "856607          Controlled drugs      Khat or Cannabis warning   \n",
       "856608          Controlled drugs                        Arrest   \n",
       "856609          Controlled drugs                        Arrest   \n",
       "\n",
       "       Outcome linked to object of search  \\\n",
       "0                                   False   \n",
       "1                                   False   \n",
       "2                                   False   \n",
       "3                                   False   \n",
       "4                                   False   \n",
       "...                                   ...   \n",
       "856605                               True   \n",
       "856606                               True   \n",
       "856607                               True   \n",
       "856608                               True   \n",
       "856609                               True   \n",
       "\n",
       "       Removal of more than just outer clothing      station  \\\n",
       "0                                         False    hampshire   \n",
       "1                                         False    hampshire   \n",
       "2                                          True    hampshire   \n",
       "3                                         False    hampshire   \n",
       "4                                         False    hampshire   \n",
       "...                                         ...          ...   \n",
       "856605                                    False  northumbria   \n",
       "856606                                     True  northumbria   \n",
       "856607                                    False  northumbria   \n",
       "856608                                    False  northumbria   \n",
       "856609                                    False  northumbria   \n",
       "\n",
       "        positive_outcome  label  \n",
       "0                   True  False  \n",
       "1                  False  False  \n",
       "2                  False  False  \n",
       "3                  False  False  \n",
       "4                  False  False  \n",
       "...                  ...    ...  \n",
       "856605             False  False  \n",
       "856606             False  False  \n",
       "856607              True   True  \n",
       "856608              True   True  \n",
       "856609              True   True  \n",
       "\n",
       "[856610 rows x 18 columns]"
      ]
     },
     "execution_count": 9,
     "metadata": {},
     "output_type": "execute_result"
    }
   ],
   "source": [
    "df"
   ]
  },
  {
   "cell_type": "code",
   "execution_count": 10,
   "metadata": {},
   "outputs": [
    {
     "data": {
      "text/plain": [
       "A no further action disposal       627474\n",
       "Arrest                             111748\n",
       "Community resolution                68280\n",
       "Penalty Notice for Disorder         17319\n",
       "Summons / charged by post           16834\n",
       "Khat or Cannabis warning            11696\n",
       "Caution (simple or conditional)      3259\n",
       "Name: Outcome, dtype: int64"
      ]
     },
     "execution_count": 10,
     "metadata": {},
     "output_type": "execute_result"
    }
   ],
   "source": [
    "df.Outcome.value_counts()"
   ]
  },
  {
   "cell_type": "code",
   "execution_count": 11,
   "metadata": {},
   "outputs": [
    {
     "data": {
      "text/plain": [
       "Object of search                              \n",
       "Anything to threaten or harm anyone                15535\n",
       "Article for use in theft                           38706\n",
       "Articles for use in criminal damage                16696\n",
       "Controlled drugs                                  558100\n",
       "Crossbows                                             54\n",
       "Detailed object of search unavailable                309\n",
       "Evidence of hunting any wild mammal with a dog        12\n",
       "Evidence of offences under the Act                 23080\n",
       "Evidence of wildlife offences                         46\n",
       "Firearms                                            5420\n",
       "Fireworks                                           5072\n",
       "Game or poaching equipment                           321\n",
       "Goods on which duty has not been paid etc.            97\n",
       "Offensive weapons                                 112652\n",
       "Psychoactive substances                             4805\n",
       "Seals or hunting equipment                             7\n",
       "Stolen goods                                       75698\n",
       "dtype: int64"
      ]
     },
     "execution_count": 11,
     "metadata": {},
     "output_type": "execute_result"
    }
   ],
   "source": [
    "df[[\"Object of search\"]].value_counts().sort_index()"
   ]
  },
  {
   "cell_type": "code",
   "execution_count": 12,
   "metadata": {},
   "outputs": [
    {
     "data": {
      "text/plain": [
       "Object of search                     Outcome linked to object of search  Outcome                        \n",
       "Anything to threaten or harm anyone  False                               A no further action disposal       4851\n",
       "                                                                         Arrest                              446\n",
       "                                                                         Caution (simple or conditional)       4\n",
       "                                                                         Community resolution                102\n",
       "                                                                         Khat or Cannabis warning             50\n",
       "                                                                                                            ... \n",
       "Stolen goods                         True                                Caution (simple or conditional)      53\n",
       "                                                                         Community resolution                845\n",
       "                                                                         Khat or Cannabis warning             17\n",
       "                                                                         Penalty Notice for Disorder          39\n",
       "                                                                         Summons / charged by post           607\n",
       "Length: 181, dtype: int64"
      ]
     },
     "execution_count": 12,
     "metadata": {},
     "output_type": "execute_result"
    }
   ],
   "source": [
    "df[[\"Object of search\",\"Outcome linked to object of search\", \"Outcome\"]].value_counts().sort_index()"
   ]
  },
  {
   "cell_type": "code",
   "execution_count": 13,
   "metadata": {},
   "outputs": [
    {
     "data": {
      "text/plain": [
       "Outcome linked to object of search\n",
       "False                                 139123\n",
       "True                                  115560\n",
       "dtype: int64"
      ]
     },
     "execution_count": 13,
     "metadata": {},
     "output_type": "execute_result"
    }
   ],
   "source": [
    "df[[\"Outcome linked to object of search\"]].value_counts().sort_index()"
   ]
  },
  {
   "cell_type": "code",
   "execution_count": 14,
   "metadata": {},
   "outputs": [
    {
     "data": {
      "text/plain": [
       "Part of a policing operation\n",
       "False                           628148\n",
       "True                             18472\n",
       "dtype: int64"
      ]
     },
     "execution_count": 14,
     "metadata": {},
     "output_type": "execute_result"
    }
   ],
   "source": [
    "df[[\"Part of a policing operation\"]].value_counts()"
   ]
  },
  {
   "cell_type": "code",
   "execution_count": 16,
   "metadata": {},
   "outputs": [],
   "source": [
    "df_clean  = df[[\n",
    "    'observation_id',\n",
    "    'Type',\n",
    "    'Date',\n",
    "    'Part of a policing operation',\n",
    "    'Latitude',\n",
    "    'Longitude',\n",
    "    'Gender',\n",
    "    'Age range',\n",
    "    'Officer-defined ethnicity',\n",
    "    'Legislation',\n",
    "    'Object of search',\n",
    "    'station',\n",
    "    'label',\n",
    "    'Outcome linked to object of search',\n",
    "]].dropna(subset=[\n",
    "    'Type',\n",
    "    'Gender',\n",
    "    'Age range',\n",
    "    'Officer-defined ethnicity',\n",
    "    'Object of search',\n",
    "    'station',\n",
    "    'label',\n",
    "    'Part of a policing operation',\n",
    "    'Outcome linked to object of search',\n",
    " ])"
   ]
  },
  {
   "cell_type": "code",
   "execution_count": 17,
   "metadata": {},
   "outputs": [],
   "source": [
    "X = df_clean[[\n",
    "    'observation_id',\n",
    "    'Type',\n",
    "    'Date',\n",
    "    'Part of a policing operation',\n",
    "    'Latitude',\n",
    "    'Longitude',\n",
    "    'Gender',\n",
    "    'Age range',\n",
    "    'Officer-defined ethnicity',\n",
    "    'Legislation',\n",
    "    'Object of search',\n",
    "    'station',\n",
    "]]"
   ]
  },
  {
   "cell_type": "code",
   "execution_count": 18,
   "metadata": {},
   "outputs": [],
   "source": [
    "y = df_clean[[\"label\"]]"
   ]
  },
  {
   "cell_type": "code",
   "execution_count": 19,
   "metadata": {},
   "outputs": [
    {
     "data": {
      "text/html": [
       "<div>\n",
       "<style scoped>\n",
       "    .dataframe tbody tr th:only-of-type {\n",
       "        vertical-align: middle;\n",
       "    }\n",
       "\n",
       "    .dataframe tbody tr th {\n",
       "        vertical-align: top;\n",
       "    }\n",
       "\n",
       "    .dataframe thead th {\n",
       "        text-align: right;\n",
       "    }\n",
       "</style>\n",
       "<table border=\"1\" class=\"dataframe\">\n",
       "  <thead>\n",
       "    <tr style=\"text-align: right;\">\n",
       "      <th></th>\n",
       "      <th>observation_id</th>\n",
       "      <th>Type</th>\n",
       "      <th>Date</th>\n",
       "      <th>Part of a policing operation</th>\n",
       "      <th>Latitude</th>\n",
       "      <th>Longitude</th>\n",
       "      <th>Gender</th>\n",
       "      <th>Age range</th>\n",
       "      <th>Officer-defined ethnicity</th>\n",
       "      <th>Legislation</th>\n",
       "      <th>Object of search</th>\n",
       "      <th>station</th>\n",
       "    </tr>\n",
       "  </thead>\n",
       "  <tbody>\n",
       "    <tr>\n",
       "      <th>940</th>\n",
       "      <td>282dc259-9d99-432a-a733-fe0c4850bf49</td>\n",
       "      <td>Person and Vehicle search</td>\n",
       "      <td>2020-12-01T00:00:00+00:00</td>\n",
       "      <td>False</td>\n",
       "      <td>50.854422</td>\n",
       "      <td>0.578369</td>\n",
       "      <td>Male</td>\n",
       "      <td>18-24</td>\n",
       "      <td>White</td>\n",
       "      <td>Misuse of Drugs Act 1971 (section 23)</td>\n",
       "      <td>Controlled drugs</td>\n",
       "      <td>sussex</td>\n",
       "    </tr>\n",
       "    <tr>\n",
       "      <th>941</th>\n",
       "      <td>e30f5a54-2ca5-481f-aa9b-053ee132d432</td>\n",
       "      <td>Person search</td>\n",
       "      <td>2020-12-01T00:00:00+00:00</td>\n",
       "      <td>False</td>\n",
       "      <td>51.116846</td>\n",
       "      <td>-0.159758</td>\n",
       "      <td>Male</td>\n",
       "      <td>over 34</td>\n",
       "      <td>White</td>\n",
       "      <td>Police and Criminal Evidence Act 1984 (section 1)</td>\n",
       "      <td>Article for use in theft</td>\n",
       "      <td>sussex</td>\n",
       "    </tr>\n",
       "    <tr>\n",
       "      <th>942</th>\n",
       "      <td>85a73606-583a-4eed-8915-96060c9a7da7</td>\n",
       "      <td>Person search</td>\n",
       "      <td>2020-12-01T00:00:00+00:00</td>\n",
       "      <td>False</td>\n",
       "      <td>51.013698</td>\n",
       "      <td>-0.452762</td>\n",
       "      <td>Male</td>\n",
       "      <td>10-17</td>\n",
       "      <td>White</td>\n",
       "      <td>Police and Criminal Evidence Act 1984 (section 1)</td>\n",
       "      <td>Article for use in theft</td>\n",
       "      <td>sussex</td>\n",
       "    </tr>\n",
       "    <tr>\n",
       "      <th>943</th>\n",
       "      <td>79673ff4-10bc-4ee3-bb41-b4806fa5f2fb</td>\n",
       "      <td>Person search</td>\n",
       "      <td>2020-12-01T00:00:00+00:00</td>\n",
       "      <td>False</td>\n",
       "      <td>51.013698</td>\n",
       "      <td>-0.452762</td>\n",
       "      <td>Male</td>\n",
       "      <td>10-17</td>\n",
       "      <td>White</td>\n",
       "      <td>Misuse of Drugs Act 1971 (section 23)</td>\n",
       "      <td>Controlled drugs</td>\n",
       "      <td>sussex</td>\n",
       "    </tr>\n",
       "    <tr>\n",
       "      <th>944</th>\n",
       "      <td>879982f7-6ee8-44b8-a7c6-d74367a1520e</td>\n",
       "      <td>Person and Vehicle search</td>\n",
       "      <td>2020-12-01T00:00:00+00:00</td>\n",
       "      <td>False</td>\n",
       "      <td>51.066980</td>\n",
       "      <td>-0.328613</td>\n",
       "      <td>Male</td>\n",
       "      <td>25-34</td>\n",
       "      <td>White</td>\n",
       "      <td>Misuse of Drugs Act 1971 (section 23)</td>\n",
       "      <td>Controlled drugs</td>\n",
       "      <td>sussex</td>\n",
       "    </tr>\n",
       "    <tr>\n",
       "      <th>...</th>\n",
       "      <td>...</td>\n",
       "      <td>...</td>\n",
       "      <td>...</td>\n",
       "      <td>...</td>\n",
       "      <td>...</td>\n",
       "      <td>...</td>\n",
       "      <td>...</td>\n",
       "      <td>...</td>\n",
       "      <td>...</td>\n",
       "      <td>...</td>\n",
       "      <td>...</td>\n",
       "      <td>...</td>\n",
       "    </tr>\n",
       "    <tr>\n",
       "      <th>854513</th>\n",
       "      <td>ae55d5fa-abc0-4d59-81bf-81583932ed37</td>\n",
       "      <td>Person search</td>\n",
       "      <td>2020-04-30T14:42:00+00:00</td>\n",
       "      <td>False</td>\n",
       "      <td>51.370400</td>\n",
       "      <td>-0.361494</td>\n",
       "      <td>Male</td>\n",
       "      <td>10-17</td>\n",
       "      <td>White</td>\n",
       "      <td>NaN</td>\n",
       "      <td>Controlled drugs</td>\n",
       "      <td>surrey</td>\n",
       "    </tr>\n",
       "    <tr>\n",
       "      <th>854514</th>\n",
       "      <td>34257d94-a2a1-4032-bd49-69b34a49af91</td>\n",
       "      <td>Person search</td>\n",
       "      <td>2020-04-30T16:38:00+00:00</td>\n",
       "      <td>False</td>\n",
       "      <td>51.239837</td>\n",
       "      <td>-0.570065</td>\n",
       "      <td>Male</td>\n",
       "      <td>18-24</td>\n",
       "      <td>White</td>\n",
       "      <td>NaN</td>\n",
       "      <td>Anything to threaten or harm anyone</td>\n",
       "      <td>surrey</td>\n",
       "    </tr>\n",
       "    <tr>\n",
       "      <th>854515</th>\n",
       "      <td>d5d34ede-a7e8-4fa9-a5e8-54d12401c51a</td>\n",
       "      <td>Person search</td>\n",
       "      <td>2020-04-30T18:20:00+00:00</td>\n",
       "      <td>False</td>\n",
       "      <td>51.419366</td>\n",
       "      <td>-0.498645</td>\n",
       "      <td>Male</td>\n",
       "      <td>25-34</td>\n",
       "      <td>Black</td>\n",
       "      <td>NaN</td>\n",
       "      <td>Article for use in theft</td>\n",
       "      <td>surrey</td>\n",
       "    </tr>\n",
       "    <tr>\n",
       "      <th>854516</th>\n",
       "      <td>adeefd40-4732-4088-a839-9b382777aa78</td>\n",
       "      <td>Person search</td>\n",
       "      <td>2020-04-30T22:30:00+00:00</td>\n",
       "      <td>False</td>\n",
       "      <td>51.187296</td>\n",
       "      <td>-0.162019</td>\n",
       "      <td>Male</td>\n",
       "      <td>25-34</td>\n",
       "      <td>White</td>\n",
       "      <td>NaN</td>\n",
       "      <td>Controlled drugs</td>\n",
       "      <td>surrey</td>\n",
       "    </tr>\n",
       "    <tr>\n",
       "      <th>854517</th>\n",
       "      <td>2ef5996d-ddaa-4d7c-b6e6-cf5d26f7a723</td>\n",
       "      <td>Person search</td>\n",
       "      <td>2020-04-30T22:30:00+00:00</td>\n",
       "      <td>False</td>\n",
       "      <td>51.187296</td>\n",
       "      <td>-0.162019</td>\n",
       "      <td>Female</td>\n",
       "      <td>18-24</td>\n",
       "      <td>White</td>\n",
       "      <td>NaN</td>\n",
       "      <td>Controlled drugs</td>\n",
       "      <td>surrey</td>\n",
       "    </tr>\n",
       "  </tbody>\n",
       "</table>\n",
       "<p>157982 rows × 12 columns</p>\n",
       "</div>"
      ],
      "text/plain": [
       "                              observation_id                       Type  \\\n",
       "940     282dc259-9d99-432a-a733-fe0c4850bf49  Person and Vehicle search   \n",
       "941     e30f5a54-2ca5-481f-aa9b-053ee132d432              Person search   \n",
       "942     85a73606-583a-4eed-8915-96060c9a7da7              Person search   \n",
       "943     79673ff4-10bc-4ee3-bb41-b4806fa5f2fb              Person search   \n",
       "944     879982f7-6ee8-44b8-a7c6-d74367a1520e  Person and Vehicle search   \n",
       "...                                      ...                        ...   \n",
       "854513  ae55d5fa-abc0-4d59-81bf-81583932ed37              Person search   \n",
       "854514  34257d94-a2a1-4032-bd49-69b34a49af91              Person search   \n",
       "854515  d5d34ede-a7e8-4fa9-a5e8-54d12401c51a              Person search   \n",
       "854516  adeefd40-4732-4088-a839-9b382777aa78              Person search   \n",
       "854517  2ef5996d-ddaa-4d7c-b6e6-cf5d26f7a723              Person search   \n",
       "\n",
       "                             Date Part of a policing operation   Latitude  \\\n",
       "940     2020-12-01T00:00:00+00:00                        False  50.854422   \n",
       "941     2020-12-01T00:00:00+00:00                        False  51.116846   \n",
       "942     2020-12-01T00:00:00+00:00                        False  51.013698   \n",
       "943     2020-12-01T00:00:00+00:00                        False  51.013698   \n",
       "944     2020-12-01T00:00:00+00:00                        False  51.066980   \n",
       "...                           ...                          ...        ...   \n",
       "854513  2020-04-30T14:42:00+00:00                        False  51.370400   \n",
       "854514  2020-04-30T16:38:00+00:00                        False  51.239837   \n",
       "854515  2020-04-30T18:20:00+00:00                        False  51.419366   \n",
       "854516  2020-04-30T22:30:00+00:00                        False  51.187296   \n",
       "854517  2020-04-30T22:30:00+00:00                        False  51.187296   \n",
       "\n",
       "        Longitude  Gender Age range Officer-defined ethnicity  \\\n",
       "940      0.578369    Male     18-24                     White   \n",
       "941     -0.159758    Male   over 34                     White   \n",
       "942     -0.452762    Male     10-17                     White   \n",
       "943     -0.452762    Male     10-17                     White   \n",
       "944     -0.328613    Male     25-34                     White   \n",
       "...           ...     ...       ...                       ...   \n",
       "854513  -0.361494    Male     10-17                     White   \n",
       "854514  -0.570065    Male     18-24                     White   \n",
       "854515  -0.498645    Male     25-34                     Black   \n",
       "854516  -0.162019    Male     25-34                     White   \n",
       "854517  -0.162019  Female     18-24                     White   \n",
       "\n",
       "                                              Legislation  \\\n",
       "940                 Misuse of Drugs Act 1971 (section 23)   \n",
       "941     Police and Criminal Evidence Act 1984 (section 1)   \n",
       "942     Police and Criminal Evidence Act 1984 (section 1)   \n",
       "943                 Misuse of Drugs Act 1971 (section 23)   \n",
       "944                 Misuse of Drugs Act 1971 (section 23)   \n",
       "...                                                   ...   \n",
       "854513                                                NaN   \n",
       "854514                                                NaN   \n",
       "854515                                                NaN   \n",
       "854516                                                NaN   \n",
       "854517                                                NaN   \n",
       "\n",
       "                           Object of search station  \n",
       "940                        Controlled drugs  sussex  \n",
       "941                Article for use in theft  sussex  \n",
       "942                Article for use in theft  sussex  \n",
       "943                        Controlled drugs  sussex  \n",
       "944                        Controlled drugs  sussex  \n",
       "...                                     ...     ...  \n",
       "854513                     Controlled drugs  surrey  \n",
       "854514  Anything to threaten or harm anyone  surrey  \n",
       "854515             Article for use in theft  surrey  \n",
       "854516                     Controlled drugs  surrey  \n",
       "854517                     Controlled drugs  surrey  \n",
       "\n",
       "[157982 rows x 12 columns]"
      ]
     },
     "execution_count": 19,
     "metadata": {},
     "output_type": "execute_result"
    }
   ],
   "source": [
    "X"
   ]
  },
  {
   "cell_type": "code",
   "execution_count": 20,
   "metadata": {},
   "outputs": [
    {
     "name": "stdout",
     "output_type": "stream",
     "text": [
      "<class 'pandas.core.frame.DataFrame'>\n",
      "Int64Index: 157982 entries, 940 to 854517\n",
      "Data columns (total 12 columns):\n",
      " #   Column                        Non-Null Count   Dtype  \n",
      "---  ------                        --------------   -----  \n",
      " 0   observation_id                157982 non-null  object \n",
      " 1   Type                          157982 non-null  object \n",
      " 2   Date                          157982 non-null  object \n",
      " 3   Part of a policing operation  157982 non-null  object \n",
      " 4   Latitude                      116607 non-null  float64\n",
      " 5   Longitude                     116607 non-null  float64\n",
      " 6   Gender                        157982 non-null  object \n",
      " 7   Age range                     157982 non-null  object \n",
      " 8   Officer-defined ethnicity     157982 non-null  object \n",
      " 9   Legislation                   140058 non-null  object \n",
      " 10  Object of search              157982 non-null  object \n",
      " 11  station                       157982 non-null  object \n",
      "dtypes: float64(2), object(10)\n",
      "memory usage: 15.7+ MB\n"
     ]
    }
   ],
   "source": [
    "X.info()"
   ]
  },
  {
   "cell_type": "code",
   "execution_count": null,
   "metadata": {},
   "outputs": [],
   "source": []
  },
  {
   "cell_type": "code",
   "execution_count": 21,
   "metadata": {},
   "outputs": [
    {
     "data": {
      "text/plain": [
       "['observation_id',\n",
       " 'Type',\n",
       " 'Date',\n",
       " 'Part of a policing operation',\n",
       " 'Latitude',\n",
       " 'Longitude',\n",
       " 'Gender',\n",
       " 'Age range',\n",
       " 'Officer-defined ethnicity',\n",
       " 'Legislation',\n",
       " 'Object of search',\n",
       " 'station']"
      ]
     },
     "execution_count": 21,
     "metadata": {},
     "output_type": "execute_result"
    }
   ],
   "source": [
    "X.columns.tolist()"
   ]
  },
  {
   "cell_type": "code",
   "execution_count": 31,
   "metadata": {},
   "outputs": [
    {
     "data": {
      "text/plain": [
       "label\n",
       "False    0.757675\n",
       "True     0.242325\n",
       "dtype: float64"
      ]
     },
     "execution_count": 31,
     "metadata": {},
     "output_type": "execute_result"
    }
   ],
   "source": [
    "y.value_counts()/len(y)"
   ]
  },
  {
   "cell_type": "code",
   "execution_count": 22,
   "metadata": {},
   "outputs": [],
   "source": [
    "selected_columns = [\n",
    " 'Type',\n",
    " 'Gender',\n",
    " 'Age range',\n",
    " 'Officer-defined ethnicity',\n",
    " 'Object of search',\n",
    " 'station',\n",
    "]"
   ]
  },
  {
   "cell_type": "code",
   "execution_count": 23,
   "metadata": {},
   "outputs": [],
   "source": [
    "from sklearn.base import TransformerMixin, BaseEstimator\n",
    "import pandas as pd\n",
    "\n",
    "class ColumnSelector(BaseEstimator, TransformerMixin):\n",
    "    def __init__(self, columns):\n",
    "        self.columns = columns\n",
    "    \n",
    "    def fit(self, X, y=None):\n",
    "        return self\n",
    "    \n",
    "    def transform(self, X, y=None):\n",
    "        return X[self.columns]"
   ]
  },
  {
   "cell_type": "code",
   "execution_count": 24,
   "metadata": {},
   "outputs": [],
   "source": [
    "from sklearn.model_selection import train_test_split, cross_val_score, cross_validate"
   ]
  },
  {
   "cell_type": "code",
   "execution_count": 25,
   "metadata": {},
   "outputs": [],
   "source": [
    "from sklearn.linear_model import LogisticRegression, LinearRegression\n",
    "from sklearn.neighbors import KNeighborsClassifier\n",
    "from sklearn.svm import SVC\n",
    "from sklearn.tree import DecisionTreeClassifier\n",
    "from sklearn.ensemble import RandomForestClassifier\n"
   ]
  },
  {
   "cell_type": "code",
   "execution_count": 26,
   "metadata": {},
   "outputs": [],
   "source": [
    "models = [\n",
    "    # ('linear_Regression', LinearRegression()),\n",
    "    # ('Logistic Regression', LogisticRegression()),\n",
    "    # ('SVM', SVC()),\n",
    "    ('Decision Tree', DecisionTreeClassifier()),\n",
    "    ('Random Forest', RandomForestClassifier()),\n",
    "]"
   ]
  },
  {
   "cell_type": "code",
   "execution_count": 27,
   "metadata": {},
   "outputs": [],
   "source": [
    "from sklearn.pipeline import Pipeline\n",
    "from sklearn.preprocessing import OneHotEncoder\n",
    "from sklearn.compose import ColumnTransformer"
   ]
  },
  {
   "cell_type": "code",
   "execution_count": 28,
   "metadata": {},
   "outputs": [],
   "source": [
    "pipe = Pipeline([\n",
    "    ('column_selector', ColumnTransformer([(\"selector\", \"passthrough\", selected_columns)], remainder=\"drop\")),\n",
    "    ('onehot', OneHotEncoder(handle_unknown='ignore')),\n",
    "    ('classifier', None),\n",
    "])\n"
   ]
  },
  {
   "cell_type": "code",
   "execution_count": 29,
   "metadata": {},
   "outputs": [
    {
     "name": "stderr",
     "output_type": "stream",
     "text": [
      "[Parallel(n_jobs=4)]: Using backend LokyBackend with 4 concurrent workers.\n",
      "[Parallel(n_jobs=4)]: Done   5 out of   5 | elapsed:    4.4s finished\n",
      "[Parallel(n_jobs=4)]: Using backend LokyBackend with 4 concurrent workers.\n"
     ]
    },
    {
     "name": "stdout",
     "output_type": "stream",
     "text": [
      "Decision Tree:\n",
      "{'fit_time': array([1.30948067, 1.1498673 , 1.13290334, 1.10577297, 0.98703551]), 'score_time': array([0.03498125, 0.03510857, 0.03441024, 0.03640056, 0.03136325]), 'test_score': array([0.81169098, 0.81314682, 0.80734903, 0.80032283, 0.80212685])}\n",
      "Random Forest:\n",
      "{'fit_time': array([56.02470469, 55.63275599, 56.86808348, 55.68814826, 42.66782117]), 'score_time': array([0.42067838, 0.40988755, 0.38083482, 0.40910554, 0.3684392 ]), 'test_score': array([0.81191252, 0.81264044, 0.80690594, 0.79991138, 0.8020952 ])}\n"
     ]
    },
    {
     "name": "stderr",
     "output_type": "stream",
     "text": [
      "[Parallel(n_jobs=4)]: Done   5 out of   5 | elapsed:  1.7min finished\n"
     ]
    }
   ],
   "source": [
    "model_scores = []\n",
    "for model_name, model in models:\n",
    "    pipe.set_params(classifier=model)\n",
    "    scores = cross_validate(pipe, X, y.astype('int').values.reshape(-1), scoring='accuracy', cv=5, verbose=1, n_jobs=4)\n",
    "    \n",
    "    model_scores.append({model_name: scores})\n",
    "    \n",
    "    print(f'{model_name}:')\n",
    "    print(scores)"
   ]
  },
  {
   "cell_type": "code",
   "execution_count": 23,
   "metadata": {},
   "outputs": [],
   "source": [
    "from sklearn.impute import SimpleImputer\n",
    "from sklearn.pipeline import Pipeline\n",
    "from sklearn.preprocessing import OneHotEncoder\n",
    "from sklearn.ensemble import RandomForestRegressor\n",
    "from sklearn.ensemble import RandomForestClassifier\n",
    "from sklearn.compose import ColumnTransformer\n",
    "\n",
    "\n",
    "\n",
    "pipeline = Pipeline(steps=[\n",
    "    ('column_selector', ColumnTransformer([(\"selector\", \"passthrough\", selected_columns)], remainder=\"drop\")),\n",
    "    ('onehot', OneHotEncoder(handle_unknown='ignore')),\n",
    "    ('model', RandomForestClassifier(n_estimators=100, random_state=42))\n",
    "    ])          "
   ]
  },
  {
   "cell_type": "code",
   "execution_count": 24,
   "metadata": {},
   "outputs": [
    {
     "name": "stdout",
     "output_type": "stream",
     "text": [
      "<class 'pandas.core.frame.DataFrame'>\n",
      "Int64Index: 646620 entries, 940 to 854517\n",
      "Data columns (total 12 columns):\n",
      " #   Column                        Non-Null Count   Dtype  \n",
      "---  ------                        --------------   -----  \n",
      " 0   observation_id                646620 non-null  object \n",
      " 1   Type                          646620 non-null  object \n",
      " 2   Date                          646620 non-null  object \n",
      " 3   Part of a policing operation  646620 non-null  object \n",
      " 4   Latitude                      527277 non-null  float64\n",
      " 5   Longitude                     527277 non-null  float64\n",
      " 6   Gender                        646620 non-null  object \n",
      " 7   Age range                     646620 non-null  object \n",
      " 8   Officer-defined ethnicity     646620 non-null  object \n",
      " 9   Legislation                   608719 non-null  object \n",
      " 10  Object of search              646620 non-null  object \n",
      " 11  station                       646620 non-null  object \n",
      "dtypes: float64(2), object(10)\n",
      "memory usage: 64.1+ MB\n"
     ]
    }
   ],
   "source": [
    "X.info()"
   ]
  },
  {
   "cell_type": "code",
   "execution_count": 25,
   "metadata": {},
   "outputs": [
    {
     "name": "stdout",
     "output_type": "stream",
     "text": [
      "<class 'pandas.core.frame.DataFrame'>\n",
      "Int64Index: 646620 entries, 940 to 854517\n",
      "Data columns (total 1 columns):\n",
      " #   Column  Non-Null Count   Dtype\n",
      "---  ------  --------------   -----\n",
      " 0   label   646620 non-null  bool \n",
      "dtypes: bool(1)\n",
      "memory usage: 5.5 MB\n"
     ]
    }
   ],
   "source": [
    "y.info()"
   ]
  },
  {
   "cell_type": "code",
   "execution_count": 26,
   "metadata": {},
   "outputs": [
    {
     "data": {
      "text/plain": [
       "Pipeline(steps=[('column_selector',\n",
       "                 ColumnTransformer(transformers=[('selector', 'passthrough',\n",
       "                                                  ['Type', 'Gender',\n",
       "                                                   'Age range',\n",
       "                                                   'Officer-defined ethnicity',\n",
       "                                                   'Object of search',\n",
       "                                                   'station'])])),\n",
       "                ('onehot', OneHotEncoder(handle_unknown='ignore')),\n",
       "                ('model', RandomForestClassifier(random_state=42))])"
      ]
     },
     "execution_count": 26,
     "metadata": {},
     "output_type": "execute_result"
    }
   ],
   "source": [
    "pipeline"
   ]
  },
  {
   "cell_type": "code",
   "execution_count": 27,
   "metadata": {},
   "outputs": [
    {
     "name": "stderr",
     "output_type": "stream",
     "text": [
      "/home/xjrr/.virtualenvs/capstone/lib/python3.8/site-packages/sklearn/pipeline.py:346: DataConversionWarning: A column-vector y was passed when a 1d array was expected. Please change the shape of y to (n_samples,), for example using ravel().\n",
      "  self._final_estimator.fit(Xt, y, **fit_params_last_step)\n"
     ]
    },
    {
     "data": {
      "text/plain": [
       "Pipeline(steps=[('column_selector',\n",
       "                 ColumnTransformer(transformers=[('selector', 'passthrough',\n",
       "                                                  ['Type', 'Gender',\n",
       "                                                   'Age range',\n",
       "                                                   'Officer-defined ethnicity',\n",
       "                                                   'Object of search',\n",
       "                                                   'station'])])),\n",
       "                ('onehot', OneHotEncoder(handle_unknown='ignore')),\n",
       "                ('model', RandomForestClassifier(random_state=42))])"
      ]
     },
     "execution_count": 27,
     "metadata": {},
     "output_type": "execute_result"
    }
   ],
   "source": [
    "pipeline.fit(X,y.astype('int'))"
   ]
  },
  {
   "cell_type": "code",
   "execution_count": 28,
   "metadata": {},
   "outputs": [
    {
     "data": {
      "text/plain": [
       "'/home/xjrr/ldsa-capstone-project'"
      ]
     },
     "execution_count": 28,
     "metadata": {},
     "output_type": "execute_result"
    }
   ],
   "source": [
    "os.getcwd()"
   ]
  },
  {
   "cell_type": "code",
   "execution_count": 29,
   "metadata": {},
   "outputs": [],
   "source": [
    "TMP_DIR = 'save-model-forest-2'"
   ]
  },
  {
   "cell_type": "code",
   "execution_count": 30,
   "metadata": {},
   "outputs": [],
   "source": [
    "if not os.path.exists(TMP_DIR):\n",
    "   # Create a new directory because it does not exist\n",
    "   os.makedirs(TMP_DIR)"
   ]
  },
  {
   "cell_type": "code",
   "execution_count": 31,
   "metadata": {},
   "outputs": [],
   "source": [
    "with open(os.path.join(os.getcwd(), TMP_DIR, 'columns.json'), 'w') as file_save:\n",
    "    json.dump(X.columns.tolist(), file_save)\n",
    "    \n",
    "# pipeline\n",
    "\n",
    "joblib.dump(pipeline, os.path.join(os.getcwd(), TMP_DIR, 'pipeline.pickle'))\n",
    "\n",
    "# dtypes\n",
    "\n",
    "with open(os.path.join(os.getcwd(), TMP_DIR, 'dtypes.pickle'), 'wb') as file_save:\n",
    "    pickle.dump(X.dtypes, file_save)"
   ]
  },
  {
   "cell_type": "code",
   "execution_count": null,
   "metadata": {},
   "outputs": [],
   "source": []
  }
 ],
 "metadata": {
  "kernelspec": {
   "display_name": "capstone",
   "language": "python",
   "name": "python3"
  },
  "language_info": {
   "codemirror_mode": {
    "name": "ipython",
    "version": 3
   },
   "file_extension": ".py",
   "mimetype": "text/x-python",
   "name": "python",
   "nbconvert_exporter": "python",
   "pygments_lexer": "ipython3",
   "version": "3.8.16"
  },
  "orig_nbformat": 4
 },
 "nbformat": 4,
 "nbformat_minor": 2
}
