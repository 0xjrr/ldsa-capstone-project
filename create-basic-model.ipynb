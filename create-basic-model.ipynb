{
 "cells": [
  {
   "cell_type": "code",
   "execution_count": 102,
   "metadata": {},
   "outputs": [],
   "source": [
    "import pandas as pd\n",
    "from sklearn.tree import DecisionTreeClassifier\n",
    "from sklearn.model_selection import train_test_split\n",
    "from sklearn.metrics import accuracy_score\n",
    "from sklearn.metrics import confusion_matrix\n",
    "from sklearn.metrics import classification_report\n",
    "from sklearn.metrics import precision_score\n",
    "from sklearn.metrics import recall_score\n",
    "from sklearn.metrics import f1_score\n",
    "from sklearn.metrics import cohen_kappa_score\n",
    "from sklearn.metrics import roc_auc_score\n",
    "from sklearn.metrics import roc_curve\n",
    "from sklearn.metrics import auc\n",
    "import matplotlib.pyplot as plt\n",
    "import seaborn as sns\n",
    "from sklearn.pipeline import Pipeline\n",
    "import os\n",
    "import pickle\n",
    "import json\n",
    "import joblib"
   ]
  },
  {
   "cell_type": "code",
   "execution_count": 3,
   "metadata": {},
   "outputs": [],
   "source": [
    "df = pd.read_csv('data/train.csv')"
   ]
  },
  {
   "cell_type": "code",
   "execution_count": 5,
   "metadata": {},
   "outputs": [
    {
     "name": "stdout",
     "output_type": "stream",
     "text": [
      "<class 'pandas.core.frame.DataFrame'>\n",
      "RangeIndex: 856610 entries, 0 to 856609\n",
      "Data columns (total 16 columns):\n",
      " #   Column                                    Non-Null Count   Dtype  \n",
      "---  ------                                    --------------   -----  \n",
      " 0   observation_id                            856610 non-null  object \n",
      " 1   Type                                      856610 non-null  object \n",
      " 2   Date                                      856610 non-null  object \n",
      " 3   Part of a policing operation              646620 non-null  object \n",
      " 4   Latitude                                  700308 non-null  float64\n",
      " 5   Longitude                                 700308 non-null  float64\n",
      " 6   Gender                                    856610 non-null  object \n",
      " 7   Age range                                 856610 non-null  object \n",
      " 8   Self-defined ethnicity                    841427 non-null  object \n",
      " 9   Officer-defined ethnicity                 856610 non-null  object \n",
      " 10  Legislation                               816863 non-null  object \n",
      " 11  Object of search                          856610 non-null  object \n",
      " 12  Outcome                                   856610 non-null  object \n",
      " 13  Outcome linked to object of search        254683 non-null  object \n",
      " 14  Removal of more than just outer clothing  340097 non-null  object \n",
      " 15  station                                   856610 non-null  object \n",
      "dtypes: float64(2), object(14)\n",
      "memory usage: 104.6+ MB\n"
     ]
    }
   ],
   "source": [
    "df.info()"
   ]
  },
  {
   "cell_type": "code",
   "execution_count": 6,
   "metadata": {},
   "outputs": [
    {
     "data": {
      "text/plain": [
       "A no further action disposal       627474\n",
       "Arrest                             111748\n",
       "Community resolution                68280\n",
       "Penalty Notice for Disorder         17319\n",
       "Summons / charged by post           16834\n",
       "Khat or Cannabis warning            11696\n",
       "Caution (simple or conditional)      3259\n",
       "Name: Outcome, dtype: int64"
      ]
     },
     "execution_count": 6,
     "metadata": {},
     "output_type": "execute_result"
    }
   ],
   "source": [
    "df.Outcome.value_counts()"
   ]
  },
  {
   "cell_type": "code",
   "execution_count": 14,
   "metadata": {},
   "outputs": [
    {
     "data": {
      "text/plain": [
       "Object of search                              \n",
       "Anything to threaten or harm anyone                15535\n",
       "Article for use in theft                           38706\n",
       "Articles for use in criminal damage                16696\n",
       "Controlled drugs                                  558100\n",
       "Crossbows                                             54\n",
       "Detailed object of search unavailable                309\n",
       "Evidence of hunting any wild mammal with a dog        12\n",
       "Evidence of offences under the Act                 23080\n",
       "Evidence of wildlife offences                         46\n",
       "Firearms                                            5420\n",
       "Fireworks                                           5072\n",
       "Game or poaching equipment                           321\n",
       "Goods on which duty has not been paid etc.            97\n",
       "Offensive weapons                                 112652\n",
       "Psychoactive substances                             4805\n",
       "Seals or hunting equipment                             7\n",
       "Stolen goods                                       75698\n",
       "dtype: int64"
      ]
     },
     "execution_count": 14,
     "metadata": {},
     "output_type": "execute_result"
    }
   ],
   "source": [
    "df[[\"Object of search\"]].value_counts().sort_index()"
   ]
  },
  {
   "cell_type": "code",
   "execution_count": 50,
   "metadata": {},
   "outputs": [
    {
     "data": {
      "text/plain": [
       "Object of search                     Outcome linked to object of search  Outcome                        \n",
       "Anything to threaten or harm anyone  False                               A no further action disposal       4851\n",
       "                                                                         Arrest                              446\n",
       "                                                                         Caution (simple or conditional)       4\n",
       "                                                                         Community resolution                102\n",
       "                                                                         Khat or Cannabis warning             50\n",
       "                                                                                                            ... \n",
       "Stolen goods                         True                                Caution (simple or conditional)      53\n",
       "                                                                         Community resolution                845\n",
       "                                                                         Khat or Cannabis warning             17\n",
       "                                                                         Penalty Notice for Disorder          39\n",
       "                                                                         Summons / charged by post           607\n",
       "Length: 181, dtype: int64"
      ]
     },
     "execution_count": 50,
     "metadata": {},
     "output_type": "execute_result"
    }
   ],
   "source": [
    "df[[\"Object of search\",\"Outcome linked to object of search\", \"Outcome\"]].value_counts().sort_index()"
   ]
  },
  {
   "cell_type": "code",
   "execution_count": 51,
   "metadata": {},
   "outputs": [
    {
     "data": {
      "text/plain": [
       "Outcome linked to object of search\n",
       "False                                 139123\n",
       "True                                  115560\n",
       "dtype: int64"
      ]
     },
     "execution_count": 51,
     "metadata": {},
     "output_type": "execute_result"
    }
   ],
   "source": [
    "df[[\"Outcome linked to object of search\"]].value_counts().sort_index()"
   ]
  },
  {
   "cell_type": "code",
   "execution_count": 19,
   "metadata": {},
   "outputs": [
    {
     "data": {
      "text/plain": [
       "Part of a policing operation\n",
       "False                           628148\n",
       "True                             18472\n",
       "dtype: int64"
      ]
     },
     "execution_count": 19,
     "metadata": {},
     "output_type": "execute_result"
    }
   ],
   "source": [
    "df[[\"Part of a policing operation\"]].value_counts()"
   ]
  },
  {
   "cell_type": "code",
   "execution_count": 81,
   "metadata": {},
   "outputs": [],
   "source": [
    "df_clean  = df[[\"observation_id\",\n",
    " \"Type\",\n",
    " \"Date\",\n",
    " \"Part of a policing operation\",\n",
    " \"Latitude\",\n",
    " \"Longitude\",\n",
    " \"Gender\",\n",
    " \"Age range\",\n",
    " \"Officer-defined ethnicity\",\n",
    " \"Legislation\",\n",
    " \"Object of search\",\n",
    " \"station\",\n",
    " \"Outcome linked to object of search\"\n",
    "]].dropna(subset=[\n",
    " 'Type',\n",
    " 'Gender',\n",
    " 'Age range',\n",
    " 'Officer-defined ethnicity',\n",
    " 'Object of search',\n",
    " 'station',\n",
    " 'Outcome linked to object of search'\n",
    " ])"
   ]
  },
  {
   "cell_type": "code",
   "execution_count": 82,
   "metadata": {},
   "outputs": [],
   "source": [
    "X = df_clean[[\"observation_id\",\n",
    " \"Type\",\n",
    " \"Date\",\n",
    " \"Part of a policing operation\",\n",
    " \"Latitude\",\n",
    " \"Longitude\",\n",
    " \"Gender\",\n",
    " \"Age range\",\n",
    " \"Officer-defined ethnicity\",\n",
    " \"Legislation\",\n",
    " \"Object of search\",\n",
    " \"station\",\n",
    "]]"
   ]
  },
  {
   "cell_type": "code",
   "execution_count": 83,
   "metadata": {},
   "outputs": [],
   "source": [
    "y = df_clean[[\"Outcome linked to object of search\"]]"
   ]
  },
  {
   "cell_type": "code",
   "execution_count": 84,
   "metadata": {},
   "outputs": [
    {
     "data": {
      "text/html": [
       "<div>\n",
       "<style scoped>\n",
       "    .dataframe tbody tr th:only-of-type {\n",
       "        vertical-align: middle;\n",
       "    }\n",
       "\n",
       "    .dataframe tbody tr th {\n",
       "        vertical-align: top;\n",
       "    }\n",
       "\n",
       "    .dataframe thead th {\n",
       "        text-align: right;\n",
       "    }\n",
       "</style>\n",
       "<table border=\"1\" class=\"dataframe\">\n",
       "  <thead>\n",
       "    <tr style=\"text-align: right;\">\n",
       "      <th></th>\n",
       "      <th>observation_id</th>\n",
       "      <th>Type</th>\n",
       "      <th>Date</th>\n",
       "      <th>Part of a policing operation</th>\n",
       "      <th>Latitude</th>\n",
       "      <th>Longitude</th>\n",
       "      <th>Gender</th>\n",
       "      <th>Age range</th>\n",
       "      <th>Officer-defined ethnicity</th>\n",
       "      <th>Legislation</th>\n",
       "      <th>Object of search</th>\n",
       "      <th>station</th>\n",
       "    </tr>\n",
       "  </thead>\n",
       "  <tbody>\n",
       "    <tr>\n",
       "      <th>0</th>\n",
       "      <td>2e4d0094-c30b-471b-a211-72a9790feca2</td>\n",
       "      <td>Person search</td>\n",
       "      <td>2020-12-01T01:10:00+00:00</td>\n",
       "      <td>NaN</td>\n",
       "      <td>50.798824</td>\n",
       "      <td>-1.089471</td>\n",
       "      <td>Male</td>\n",
       "      <td>25-34</td>\n",
       "      <td>White</td>\n",
       "      <td>Police and Criminal Evidence Act 1984 (section 1)</td>\n",
       "      <td>Article for use in theft</td>\n",
       "      <td>hampshire</td>\n",
       "    </tr>\n",
       "    <tr>\n",
       "      <th>1</th>\n",
       "      <td>4779fbe8-6e05-4534-85fd-db32952ee309</td>\n",
       "      <td>Person search</td>\n",
       "      <td>2020-12-01T02:00:00+00:00</td>\n",
       "      <td>NaN</td>\n",
       "      <td>50.785099</td>\n",
       "      <td>-1.091540</td>\n",
       "      <td>Male</td>\n",
       "      <td>over 34</td>\n",
       "      <td>Other</td>\n",
       "      <td>Misuse of Drugs Act 1971 (section 23)</td>\n",
       "      <td>Controlled drugs</td>\n",
       "      <td>hampshire</td>\n",
       "    </tr>\n",
       "    <tr>\n",
       "      <th>2</th>\n",
       "      <td>cb5c685d-acac-42e2-914d-75e6ff73b0a8</td>\n",
       "      <td>Person search</td>\n",
       "      <td>2020-12-01T09:15:00+00:00</td>\n",
       "      <td>NaN</td>\n",
       "      <td>50.952006</td>\n",
       "      <td>-1.403341</td>\n",
       "      <td>Male</td>\n",
       "      <td>over 34</td>\n",
       "      <td>White</td>\n",
       "      <td>Misuse of Drugs Act 1971 (section 23)</td>\n",
       "      <td>Controlled drugs</td>\n",
       "      <td>hampshire</td>\n",
       "    </tr>\n",
       "    <tr>\n",
       "      <th>3</th>\n",
       "      <td>f486e116-5b1e-45db-9931-a7f070c5c478</td>\n",
       "      <td>Person search</td>\n",
       "      <td>2020-12-01T10:20:00+00:00</td>\n",
       "      <td>NaN</td>\n",
       "      <td>50.806383</td>\n",
       "      <td>-1.079844</td>\n",
       "      <td>Male</td>\n",
       "      <td>10-17</td>\n",
       "      <td>White</td>\n",
       "      <td>Police and Criminal Evidence Act 1984 (section 1)</td>\n",
       "      <td>Stolen goods</td>\n",
       "      <td>hampshire</td>\n",
       "    </tr>\n",
       "    <tr>\n",
       "      <th>4</th>\n",
       "      <td>78f4020e-12cc-4889-bf1a-2f2c29b2f662</td>\n",
       "      <td>Person search</td>\n",
       "      <td>2020-12-01T10:24:00+00:00</td>\n",
       "      <td>NaN</td>\n",
       "      <td>50.806670</td>\n",
       "      <td>-1.081982</td>\n",
       "      <td>Male</td>\n",
       "      <td>10-17</td>\n",
       "      <td>Asian</td>\n",
       "      <td>Police and Criminal Evidence Act 1984 (section 1)</td>\n",
       "      <td>Offensive weapons</td>\n",
       "      <td>hampshire</td>\n",
       "    </tr>\n",
       "    <tr>\n",
       "      <th>...</th>\n",
       "      <td>...</td>\n",
       "      <td>...</td>\n",
       "      <td>...</td>\n",
       "      <td>...</td>\n",
       "      <td>...</td>\n",
       "      <td>...</td>\n",
       "      <td>...</td>\n",
       "      <td>...</td>\n",
       "      <td>...</td>\n",
       "      <td>...</td>\n",
       "      <td>...</td>\n",
       "      <td>...</td>\n",
       "    </tr>\n",
       "    <tr>\n",
       "      <th>856605</th>\n",
       "      <td>ee337b9a-12ad-45fd-8c60-49091a0f4ab8</td>\n",
       "      <td>Person and Vehicle search</td>\n",
       "      <td>2020-04-30T15:10:00+00:00</td>\n",
       "      <td>NaN</td>\n",
       "      <td>54.965502</td>\n",
       "      <td>-1.604609</td>\n",
       "      <td>Male</td>\n",
       "      <td>18-24</td>\n",
       "      <td>White</td>\n",
       "      <td>Misuse of Drugs Act 1971 (section 23)</td>\n",
       "      <td>Controlled drugs</td>\n",
       "      <td>northumbria</td>\n",
       "    </tr>\n",
       "    <tr>\n",
       "      <th>856606</th>\n",
       "      <td>5973a004-e579-4dd2-bc26-71ab5717f87a</td>\n",
       "      <td>Person and Vehicle search</td>\n",
       "      <td>2020-04-30T15:10:00+00:00</td>\n",
       "      <td>NaN</td>\n",
       "      <td>54.965502</td>\n",
       "      <td>-1.604609</td>\n",
       "      <td>Male</td>\n",
       "      <td>25-34</td>\n",
       "      <td>Other</td>\n",
       "      <td>Misuse of Drugs Act 1971 (section 23)</td>\n",
       "      <td>Controlled drugs</td>\n",
       "      <td>northumbria</td>\n",
       "    </tr>\n",
       "    <tr>\n",
       "      <th>856607</th>\n",
       "      <td>ad053a34-364e-4d24-8f5c-9734ab5fdbe0</td>\n",
       "      <td>Person and Vehicle search</td>\n",
       "      <td>2020-04-30T17:00:00+00:00</td>\n",
       "      <td>NaN</td>\n",
       "      <td>54.966266</td>\n",
       "      <td>-1.453704</td>\n",
       "      <td>Male</td>\n",
       "      <td>18-24</td>\n",
       "      <td>White</td>\n",
       "      <td>Misuse of Drugs Act 1971 (section 23)</td>\n",
       "      <td>Controlled drugs</td>\n",
       "      <td>northumbria</td>\n",
       "    </tr>\n",
       "    <tr>\n",
       "      <th>856608</th>\n",
       "      <td>8736e5ec-7ca2-420b-ad56-4dd88d27fe6e</td>\n",
       "      <td>Person search</td>\n",
       "      <td>2020-04-30T17:35:00+00:00</td>\n",
       "      <td>NaN</td>\n",
       "      <td>54.971596</td>\n",
       "      <td>-1.636589</td>\n",
       "      <td>Male</td>\n",
       "      <td>25-34</td>\n",
       "      <td>White</td>\n",
       "      <td>Misuse of Drugs Act 1971 (section 23)</td>\n",
       "      <td>Controlled drugs</td>\n",
       "      <td>northumbria</td>\n",
       "    </tr>\n",
       "    <tr>\n",
       "      <th>856609</th>\n",
       "      <td>a697ebdf-0ff2-4d6e-8c0e-1e6285858301</td>\n",
       "      <td>Person search</td>\n",
       "      <td>2020-04-30T17:36:00+00:00</td>\n",
       "      <td>NaN</td>\n",
       "      <td>54.972352</td>\n",
       "      <td>-1.637175</td>\n",
       "      <td>Male</td>\n",
       "      <td>18-24</td>\n",
       "      <td>White</td>\n",
       "      <td>Misuse of Drugs Act 1971 (section 23)</td>\n",
       "      <td>Controlled drugs</td>\n",
       "      <td>northumbria</td>\n",
       "    </tr>\n",
       "  </tbody>\n",
       "</table>\n",
       "<p>254683 rows × 12 columns</p>\n",
       "</div>"
      ],
      "text/plain": [
       "                              observation_id                       Type  \\\n",
       "0       2e4d0094-c30b-471b-a211-72a9790feca2              Person search   \n",
       "1       4779fbe8-6e05-4534-85fd-db32952ee309              Person search   \n",
       "2       cb5c685d-acac-42e2-914d-75e6ff73b0a8              Person search   \n",
       "3       f486e116-5b1e-45db-9931-a7f070c5c478              Person search   \n",
       "4       78f4020e-12cc-4889-bf1a-2f2c29b2f662              Person search   \n",
       "...                                      ...                        ...   \n",
       "856605  ee337b9a-12ad-45fd-8c60-49091a0f4ab8  Person and Vehicle search   \n",
       "856606  5973a004-e579-4dd2-bc26-71ab5717f87a  Person and Vehicle search   \n",
       "856607  ad053a34-364e-4d24-8f5c-9734ab5fdbe0  Person and Vehicle search   \n",
       "856608  8736e5ec-7ca2-420b-ad56-4dd88d27fe6e              Person search   \n",
       "856609  a697ebdf-0ff2-4d6e-8c0e-1e6285858301              Person search   \n",
       "\n",
       "                             Date Part of a policing operation   Latitude  \\\n",
       "0       2020-12-01T01:10:00+00:00                          NaN  50.798824   \n",
       "1       2020-12-01T02:00:00+00:00                          NaN  50.785099   \n",
       "2       2020-12-01T09:15:00+00:00                          NaN  50.952006   \n",
       "3       2020-12-01T10:20:00+00:00                          NaN  50.806383   \n",
       "4       2020-12-01T10:24:00+00:00                          NaN  50.806670   \n",
       "...                           ...                          ...        ...   \n",
       "856605  2020-04-30T15:10:00+00:00                          NaN  54.965502   \n",
       "856606  2020-04-30T15:10:00+00:00                          NaN  54.965502   \n",
       "856607  2020-04-30T17:00:00+00:00                          NaN  54.966266   \n",
       "856608  2020-04-30T17:35:00+00:00                          NaN  54.971596   \n",
       "856609  2020-04-30T17:36:00+00:00                          NaN  54.972352   \n",
       "\n",
       "        Longitude Gender Age range Officer-defined ethnicity  \\\n",
       "0       -1.089471   Male     25-34                     White   \n",
       "1       -1.091540   Male   over 34                     Other   \n",
       "2       -1.403341   Male   over 34                     White   \n",
       "3       -1.079844   Male     10-17                     White   \n",
       "4       -1.081982   Male     10-17                     Asian   \n",
       "...           ...    ...       ...                       ...   \n",
       "856605  -1.604609   Male     18-24                     White   \n",
       "856606  -1.604609   Male     25-34                     Other   \n",
       "856607  -1.453704   Male     18-24                     White   \n",
       "856608  -1.636589   Male     25-34                     White   \n",
       "856609  -1.637175   Male     18-24                     White   \n",
       "\n",
       "                                              Legislation  \\\n",
       "0       Police and Criminal Evidence Act 1984 (section 1)   \n",
       "1                   Misuse of Drugs Act 1971 (section 23)   \n",
       "2                   Misuse of Drugs Act 1971 (section 23)   \n",
       "3       Police and Criminal Evidence Act 1984 (section 1)   \n",
       "4       Police and Criminal Evidence Act 1984 (section 1)   \n",
       "...                                                   ...   \n",
       "856605              Misuse of Drugs Act 1971 (section 23)   \n",
       "856606              Misuse of Drugs Act 1971 (section 23)   \n",
       "856607              Misuse of Drugs Act 1971 (section 23)   \n",
       "856608              Misuse of Drugs Act 1971 (section 23)   \n",
       "856609              Misuse of Drugs Act 1971 (section 23)   \n",
       "\n",
       "                Object of search      station  \n",
       "0       Article for use in theft    hampshire  \n",
       "1               Controlled drugs    hampshire  \n",
       "2               Controlled drugs    hampshire  \n",
       "3                   Stolen goods    hampshire  \n",
       "4              Offensive weapons    hampshire  \n",
       "...                          ...          ...  \n",
       "856605          Controlled drugs  northumbria  \n",
       "856606          Controlled drugs  northumbria  \n",
       "856607          Controlled drugs  northumbria  \n",
       "856608          Controlled drugs  northumbria  \n",
       "856609          Controlled drugs  northumbria  \n",
       "\n",
       "[254683 rows x 12 columns]"
      ]
     },
     "execution_count": 84,
     "metadata": {},
     "output_type": "execute_result"
    }
   ],
   "source": [
    "X"
   ]
  },
  {
   "cell_type": "code",
   "execution_count": 85,
   "metadata": {},
   "outputs": [
    {
     "name": "stdout",
     "output_type": "stream",
     "text": [
      "<class 'pandas.core.frame.DataFrame'>\n",
      "Int64Index: 254683 entries, 0 to 856609\n",
      "Data columns (total 12 columns):\n",
      " #   Column                        Non-Null Count   Dtype  \n",
      "---  ------                        --------------   -----  \n",
      " 0   observation_id                254683 non-null  object \n",
      " 1   Type                          254683 non-null  object \n",
      " 2   Date                          254683 non-null  object \n",
      " 3   Part of a policing operation  157982 non-null  object \n",
      " 4   Latitude                      203942 non-null  float64\n",
      " 5   Longitude                     203942 non-null  float64\n",
      " 6   Gender                        254683 non-null  object \n",
      " 7   Age range                     254683 non-null  object \n",
      " 8   Officer-defined ethnicity     254683 non-null  object \n",
      " 9   Legislation                   236164 non-null  object \n",
      " 10  Object of search              254683 non-null  object \n",
      " 11  station                       254683 non-null  object \n",
      "dtypes: float64(2), object(10)\n",
      "memory usage: 25.3+ MB\n"
     ]
    }
   ],
   "source": [
    "X.info()"
   ]
  },
  {
   "cell_type": "code",
   "execution_count": null,
   "metadata": {},
   "outputs": [],
   "source": []
  },
  {
   "cell_type": "code",
   "execution_count": 86,
   "metadata": {},
   "outputs": [
    {
     "data": {
      "text/plain": [
       "['observation_id',\n",
       " 'Type',\n",
       " 'Date',\n",
       " 'Part of a policing operation',\n",
       " 'Latitude',\n",
       " 'Longitude',\n",
       " 'Gender',\n",
       " 'Age range',\n",
       " 'Officer-defined ethnicity',\n",
       " 'Legislation',\n",
       " 'Object of search',\n",
       " 'station']"
      ]
     },
     "execution_count": 86,
     "metadata": {},
     "output_type": "execute_result"
    }
   ],
   "source": [
    "X.columns.tolist()"
   ]
  },
  {
   "cell_type": "code",
   "execution_count": 87,
   "metadata": {},
   "outputs": [],
   "source": [
    "selected_columns = [\n",
    " 'Type',\n",
    " 'Gender',\n",
    " 'Age range',\n",
    " 'Officer-defined ethnicity',\n",
    " 'Object of search',\n",
    " 'station'\n",
    " ]"
   ]
  },
  {
   "cell_type": "code",
   "execution_count": 88,
   "metadata": {},
   "outputs": [],
   "source": [
    "from sklearn.base import TransformerMixin, BaseEstimator\n",
    "import pandas as pd\n",
    "\n",
    "class ColumnSelector(BaseEstimator, TransformerMixin):\n",
    "    def __init__(self, columns):\n",
    "        self.columns = columns\n",
    "    \n",
    "    def fit(self, X, y=None):\n",
    "        return self\n",
    "    \n",
    "    def transform(self, X, y=None):\n",
    "        return X[self.columns]"
   ]
  },
  {
   "cell_type": "code",
   "execution_count": 94,
   "metadata": {},
   "outputs": [],
   "source": [
    "from sklearn.impute import SimpleImputer\n",
    "from sklearn.pipeline import Pipeline\n",
    "from sklearn.preprocessing import OneHotEncoder\n",
    "from sklearn.ensemble import RandomForestRegressor\n",
    "from sklearn.ensemble import RandomForestClassifier\n",
    "from sklearn.compose import ColumnTransformer\n",
    "\n",
    "\n",
    "\n",
    "pipeline = Pipeline(steps=[\n",
    "    ('column_selector', ColumnTransformer([(\"selector\", \"passthrough\", selected_columns)], remainder=\"drop\")),\n",
    "    ('onehot', OneHotEncoder(handle_unknown='ignore')),\n",
    "    ('model', RandomForestClassifier(n_estimators=100, random_state=42))\n",
    "    ])          "
   ]
  },
  {
   "cell_type": "code",
   "execution_count": 95,
   "metadata": {},
   "outputs": [
    {
     "name": "stdout",
     "output_type": "stream",
     "text": [
      "<class 'pandas.core.frame.DataFrame'>\n",
      "Int64Index: 254683 entries, 0 to 856609\n",
      "Data columns (total 12 columns):\n",
      " #   Column                        Non-Null Count   Dtype  \n",
      "---  ------                        --------------   -----  \n",
      " 0   observation_id                254683 non-null  object \n",
      " 1   Type                          254683 non-null  object \n",
      " 2   Date                          254683 non-null  object \n",
      " 3   Part of a policing operation  157982 non-null  object \n",
      " 4   Latitude                      203942 non-null  float64\n",
      " 5   Longitude                     203942 non-null  float64\n",
      " 6   Gender                        254683 non-null  object \n",
      " 7   Age range                     254683 non-null  object \n",
      " 8   Officer-defined ethnicity     254683 non-null  object \n",
      " 9   Legislation                   236164 non-null  object \n",
      " 10  Object of search              254683 non-null  object \n",
      " 11  station                       254683 non-null  object \n",
      "dtypes: float64(2), object(10)\n",
      "memory usage: 25.3+ MB\n"
     ]
    }
   ],
   "source": [
    "X.info()"
   ]
  },
  {
   "cell_type": "code",
   "execution_count": 96,
   "metadata": {},
   "outputs": [
    {
     "name": "stdout",
     "output_type": "stream",
     "text": [
      "<class 'pandas.core.frame.DataFrame'>\n",
      "Int64Index: 254683 entries, 0 to 856609\n",
      "Data columns (total 1 columns):\n",
      " #   Column                              Non-Null Count   Dtype \n",
      "---  ------                              --------------   ----- \n",
      " 0   Outcome linked to object of search  254683 non-null  object\n",
      "dtypes: object(1)\n",
      "memory usage: 3.9+ MB\n"
     ]
    }
   ],
   "source": [
    "y.info()"
   ]
  },
  {
   "cell_type": "code",
   "execution_count": 97,
   "metadata": {},
   "outputs": [
    {
     "data": {
      "text/plain": [
       "Pipeline(steps=[('column_selector',\n",
       "                 ColumnTransformer(transformers=[('selector', 'passthrough',\n",
       "                                                  ['Type', 'Gender',\n",
       "                                                   'Age range',\n",
       "                                                   'Officer-defined ethnicity',\n",
       "                                                   'Object of search',\n",
       "                                                   'station'])])),\n",
       "                ('onehot', OneHotEncoder(handle_unknown='ignore')),\n",
       "                ('model', RandomForestClassifier(random_state=42))])"
      ]
     },
     "execution_count": 97,
     "metadata": {},
     "output_type": "execute_result"
    }
   ],
   "source": [
    "pipeline"
   ]
  },
  {
   "cell_type": "code",
   "execution_count": 98,
   "metadata": {},
   "outputs": [
    {
     "name": "stderr",
     "output_type": "stream",
     "text": [
      "/home/xjrr/.virtualenvs/capstone/lib/python3.8/site-packages/sklearn/pipeline.py:346: DataConversionWarning: A column-vector y was passed when a 1d array was expected. Please change the shape of y to (n_samples,), for example using ravel().\n",
      "  self._final_estimator.fit(Xt, y, **fit_params_last_step)\n"
     ]
    },
    {
     "data": {
      "text/plain": [
       "Pipeline(steps=[('column_selector',\n",
       "                 ColumnTransformer(transformers=[('selector', 'passthrough',\n",
       "                                                  ['Type', 'Gender',\n",
       "                                                   'Age range',\n",
       "                                                   'Officer-defined ethnicity',\n",
       "                                                   'Object of search',\n",
       "                                                   'station'])])),\n",
       "                ('onehot', OneHotEncoder(handle_unknown='ignore')),\n",
       "                ('model', RandomForestClassifier(random_state=42))])"
      ]
     },
     "execution_count": 98,
     "metadata": {},
     "output_type": "execute_result"
    }
   ],
   "source": [
    "pipeline.fit(X,y.astype('int'))"
   ]
  },
  {
   "cell_type": "code",
   "execution_count": 107,
   "metadata": {},
   "outputs": [
    {
     "data": {
      "text/plain": [
       "'/home/xjrr/ldsa-capstone-project'"
      ]
     },
     "execution_count": 107,
     "metadata": {},
     "output_type": "execute_result"
    }
   ],
   "source": [
    "os.getcwd()"
   ]
  },
  {
   "cell_type": "code",
   "execution_count": 104,
   "metadata": {},
   "outputs": [],
   "source": [
    "TMP_DIR = 'saves'"
   ]
  },
  {
   "cell_type": "code",
   "execution_count": 109,
   "metadata": {},
   "outputs": [],
   "source": [
    "with open(os.path.join(os.getcwd(), TMP_DIR, 'columns.json'), 'w') as file_save:\n",
    "    json.dump(X.columns.tolist(), file_save)\n",
    "    \n",
    "# pipeline\n",
    "\n",
    "joblib.dump(pipeline, os.path.join(os.getcwd(), TMP_DIR, 'pipeline.pickle'))\n",
    "\n",
    "# dtypes\n",
    "\n",
    "with open(os.path.join(os.getcwd(), TMP_DIR, 'dtypes.pickle'), 'wb') as file_save:\n",
    "    pickle.dump(X.dtypes, file_save)"
   ]
  },
  {
   "cell_type": "code",
   "execution_count": null,
   "metadata": {},
   "outputs": [],
   "source": []
  }
 ],
 "metadata": {
  "kernelspec": {
   "display_name": "capstone",
   "language": "python",
   "name": "python3"
  },
  "language_info": {
   "codemirror_mode": {
    "name": "ipython",
    "version": 3
   },
   "file_extension": ".py",
   "mimetype": "text/x-python",
   "name": "python",
   "nbconvert_exporter": "python",
   "pygments_lexer": "ipython3",
   "version": "3.8.16"
  },
  "orig_nbformat": 4
 },
 "nbformat": 4,
 "nbformat_minor": 2
}
