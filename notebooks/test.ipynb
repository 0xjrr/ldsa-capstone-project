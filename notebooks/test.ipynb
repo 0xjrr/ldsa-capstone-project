{
 "cells": [
  {
   "cell_type": "code",
   "execution_count": 8,
   "metadata": {},
   "outputs": [],
   "source": [
    "import os\n",
    "import base64\n",
    "import joblib\n",
    "import pandas as pd\n",
    "import numpy as np\n",
    "import json\n",
    "import joblib\n",
    "import pickle\n",
    "import math\n",
    "import requests\n",
    "from copy import deepcopy\n",
    "import seaborn as sns\n",
    "from uuid import uuid4\n",
    "import json\n",
    "# Assign the variable APP_NAME to the name of your heroku app\n",
    "APP_NAME = 'capstone-model-deploy-production.up.railway.app'\n",
    "\n",
    "# YOUR CODE HERE\n",
    "# raise NotImplementedError()\n"
   ]
  },
  {
   "cell_type": "code",
   "execution_count": 47,
   "metadata": {},
   "outputs": [],
   "source": [
    "# Test locally\n",
    "# url = f\"http://localhost:5000/predict\"\n",
    "\n",
    "\n",
    "# Testing the predict/update endpoint\n",
    "url = \"https://{}/should_search\".format(APP_NAME)\n",
    "\n",
    "\n",
    "################################################\n",
    "# Test with good payload\n",
    "################################################\n",
    "\n",
    "payload = {\n",
    "  \"observation_id\": \"14343\",\n",
    "  \"Type\": \"Stop and Search\",\n",
    "  \"Date\": \"2023-04-24\",\n",
    "  \"Part of a policing operation\": True,\n",
    "  \"Latitude\": 51.5074,\n",
    "  \"Longitude\": -0.1278,\n",
    "  \"Gender\": \"Male\",\n",
    "  \"Age range\": \"18-24\",\n",
    "  \"Officer-defined ethnicity\": \"Asian\",\n",
    "  \"Legislation\": \"Misuse of Drugs Act 1971\",\n",
    "  \"Object of search\": \"Controlled drugs\",\n",
    "  \"station\": \"Westminster Police Station\"\n",
    "}\n",
    "\n",
    "\n",
    "r = requests.post(url, json=payload)\n",
    "assert isinstance(r, requests.Response)\n",
    "assert r.ok\n",
    "\n",
    "response = r.json()"
   ]
  },
  {
   "cell_type": "code",
   "execution_count": 48,
   "metadata": {},
   "outputs": [
    {
     "data": {
      "text/plain": [
       "<Response [200]>"
      ]
     },
     "execution_count": 48,
     "metadata": {},
     "output_type": "execute_result"
    }
   ],
   "source": [
    "r"
   ]
  },
  {
   "cell_type": "code",
   "execution_count": 49,
   "metadata": {},
   "outputs": [
    {
     "data": {
      "text/plain": [
       "{'outcome': True}"
      ]
     },
     "execution_count": 49,
     "metadata": {},
     "output_type": "execute_result"
    }
   ],
   "source": [
    "response"
   ]
  },
  {
   "cell_type": "code",
   "execution_count": 53,
   "metadata": {},
   "outputs": [],
   "source": [
    "# Test locally\n",
    "# url = f\"http://localhost:5000/predict\"\n",
    "\n",
    "\n",
    "# Testing the predict/update endpoint\n",
    "url = \"https://{}/search_result\".format(APP_NAME)\n",
    "\n",
    "\n",
    "################################################\n",
    "# Test with good payload\n",
    "################################################\n",
    "\n",
    "payload = {\n",
    "  \"observation_id\": \"14343\",\n",
    "  \"outcome\": False\n",
    "}\n",
    "\n",
    "\n",
    "r = requests.post(url, json=payload)\n",
    "assert isinstance(r, requests.Response)\n",
    "assert r.ok\n",
    "\n",
    "response = r.json()"
   ]
  },
  {
   "cell_type": "code",
   "execution_count": 54,
   "metadata": {},
   "outputs": [
    {
     "data": {
      "text/plain": [
       "{'observation_id': '14343', 'outcome': False, 'predicted_outcome': True}"
      ]
     },
     "execution_count": 54,
     "metadata": {},
     "output_type": "execute_result"
    }
   ],
   "source": [
    "response"
   ]
  },
  {
   "cell_type": "code",
   "execution_count": null,
   "metadata": {},
   "outputs": [],
   "source": []
  }
 ],
 "metadata": {
  "kernelspec": {
   "display_name": "capstone",
   "language": "python",
   "name": "python3"
  },
  "language_info": {
   "codemirror_mode": {
    "name": "ipython",
    "version": 3
   },
   "file_extension": ".py",
   "mimetype": "text/x-python",
   "name": "python",
   "nbconvert_exporter": "python",
   "pygments_lexer": "ipython3",
   "version": "3.8.16"
  },
  "orig_nbformat": 4
 },
 "nbformat": 4,
 "nbformat_minor": 2
}
